{
 "cells": [
  {
   "cell_type": "raw",
   "metadata": {},
   "source": [
    "Весь алгоритм построен на теореме Байеса — одной из фундаментальных теорем теории вероятностей. Звучит она следующим образом:\n",
    "\n",
    "    P(A | B) = {P(B | A) * P(A)}/P(B)\n",
    "\n",
    "Для читателей, незнакомых с нотацией, приведенной выше, привожу список пояснений каждой части теоремы:\n",
    "\n",
    "P(A | B) — вероятность гипотезы А при наступлении события В, т. е. вероятность А, когда В уже верно;\n",
    "P(B | A) — вероятность наступления события В, если гипотеза А верна;\n",
    "P(A) — вероятность того, что гипотеза А верна;\n",
    "P(B) — вероятность наступления события В;"
   ]
  },
  {
   "cell_type": "raw",
   "metadata": {},
   "source": [
    "В задачах классификации данная теорема рассматривается следующим образом:\n",
    "В — один набор признаков (sample). \n",
    "А — вероятность того, что набор В принадлежит к определенному классу."
   ]
  },
  {
   "cell_type": "raw",
   "metadata": {},
   "source": [
    "Также, отбросим знаменатель, так как в нашем случае он является константным."
   ]
  },
  {
   "cell_type": "raw",
   "metadata": {},
   "source": [
    "Рассматривая каждый признак, наш классификатор выглядит следующим образом:\n",
    "\n",
    "    \\[c = \\text{arg max }(c \\in C) P(c|x_1, x_2, \\ldots, x_n) = \\text{arg max }(c \\in C) P(c) \\cdot P(x_1, x_2, \\ldots, x_n|c)\\]\n",
    "\n",
    "И теперь наступает время для «наивного» предположения — именно отсюда "
   ]
  },
  {
   "cell_type": "raw",
   "metadata": {},
   "source": [
    "Далее\n",
    "https://shwanoff.ru/%d0%bd%d0%b0%d0%b8%d0%b2%d0%bd%d1%8b%d0%b9-%d0%b1%d0%b0%d0%b9%d0%b5%d1%81%d0%be%d0%b2%d1%81%d0%ba%d0%b8%d0%b9-%d0%ba%d0%bb%d0%b0%d1%81%d1%81%d0%b8%d1%84%d0%b8%d0%ba%d0%b0%d1%82%d0%be%d1%80-%d0%bd/"
   ]
  },
  {
   "cell_type": "markdown",
   "metadata": {},
   "source": [
    "Реализация на Python (как-то сложно пока)"
   ]
  },
  {
   "cell_type": "raw",
   "metadata": {},
   "source": [
    "Теперь запрограммируем нашу математическую модель с помощью Python. Для начала импортируем необходимые нам модули:"
   ]
  },
  {
   "cell_type": "code",
   "execution_count": 1,
   "metadata": {},
   "outputs": [],
   "source": [
    "from collections import defaultdict\n",
    "\n",
    "import numpy as np\n",
    "from sklearn.datasets import load_iris\n",
    "from sklearn.metrics import accuracy_score\n",
    "from sklearn.model_selection import train_test_split"
   ]
  },
  {
   "cell_type": "raw",
   "metadata": {},
   "source": [
    "Примечание. Придерживаемся правил РЕР8, и импортируем функции и классы из модуля стандартной библиотеки в самом начале, а затем все остальные.\n",
    "\n",
    "Затем, подобая программному интерфейсу sklearn, создадим класс модели:"
   ]
  },
  {
   "cell_type": "code",
   "execution_count": 17,
   "metadata": {},
   "outputs": [],
   "source": [
    "class NaiveBayesClassifier(object):\n",
    "    def init(self):  \n",
    "        self.__class_freq = defaultdict(lambda:0)\n",
    "        self.__feat_freq = defaultdict(lambda:0)\n",
    "\n",
    "\n",
    "    def fit(self, X, y):\n",
    "        # calculate classes and features frequencies\n",
    "        for feature, label in zip(X, y):\n",
    "            self.__class_freq[label] += 1\n",
    "            for value in feature:\n",
    "                self.__feat_freq[(value, label)] += 1\n",
    "\n",
    "        # normalizate values\n",
    "        num_samples = len(X)\n",
    "        for k in self.__class_freq:\n",
    "            self.__class_freq[k] /= num_samples\n",
    "\n",
    "        for value, label in self.__feat_freq:\n",
    "            self.__feat_freq[(value, label)] /= self.__class_freq[label]\n",
    "\n",
    "        return self"
   ]
  },
  {
   "cell_type": "raw",
   "metadata": {},
   "source": [
    "В методе fit мы, благодаря классу defaultdict из модуля collections, так раз и вычисляем параметры модели.\n",
    "\n",
    "Приступим к реализации предсказания модели:"
   ]
  },
  {
   "cell_type": "code",
   "execution_count": 14,
   "metadata": {},
   "outputs": [],
   "source": [
    "def predict(self, X):\n",
    "    # return argmin of classes \n",
    "    return min(self.__class_freq.keys(), \n",
    "               key=lambda c : self.__calculate_class_freq(X, c)) \n",
    " \n",
    "def __calculate_class_freq(self, X, clss):\n",
    "    # calculate frequence for current class\n",
    "    freq = - np.log(self.__class_freq[clss])\n",
    "   \n",
    "    for feat in X: \n",
    "        freq += - np.log(self.__feat_freq.get((feat, clss), 10 ** (-7)))\n",
    "    return freq"
   ]
  },
  {
   "cell_type": "raw",
   "metadata": {},
   "source": [
    "Примечание. Это самая простая реализация, код которой вы можете встретить во многих статьях и книгах ввиду её простоты. Я постарался привести данную реализацию под общий программный интерфейс, чего не делали другие авторы."
   ]
  },
  {
   "cell_type": "markdown",
   "metadata": {},
   "source": [
    "Протестим программу"
   ]
  },
  {
   "cell_type": "code",
   "execution_count": 18,
   "metadata": {},
   "outputs": [
    {
     "ename": "AttributeError",
     "evalue": "'NaiveBayesClassifier' object has no attribute '_NaiveBayesClassifier__class_freq'",
     "output_type": "error",
     "traceback": [
      "\u001b[1;31m---------------------------------------------------------------------------\u001b[0m",
      "\u001b[1;31mAttributeError\u001b[0m                            Traceback (most recent call last)",
      "\u001b[1;32m<ipython-input-18-8ddf12d3604a>\u001b[0m in \u001b[0;36m<module>\u001b[1;34m\u001b[0m\n\u001b[0;32m      7\u001b[0m                                                     random_state=42)\n\u001b[0;32m      8\u001b[0m \u001b[1;33m\u001b[0m\u001b[0m\n\u001b[1;32m----> 9\u001b[1;33m \u001b[0mmodel\u001b[0m \u001b[1;33m=\u001b[0m \u001b[0mNaiveBayesClassifier\u001b[0m\u001b[1;33m(\u001b[0m\u001b[1;33m)\u001b[0m\u001b[1;33m.\u001b[0m\u001b[0mfit\u001b[0m\u001b[1;33m(\u001b[0m\u001b[0mX_train\u001b[0m\u001b[1;33m,\u001b[0m \u001b[0my_train\u001b[0m\u001b[1;33m)\u001b[0m\u001b[1;33m\u001b[0m\u001b[1;33m\u001b[0m\u001b[0m\n\u001b[0m\u001b[0;32m     10\u001b[0m \u001b[1;33m\u001b[0m\u001b[0m\n\u001b[0;32m     11\u001b[0m \u001b[0mpredictions\u001b[0m \u001b[1;33m=\u001b[0m \u001b[1;33m[\u001b[0m\u001b[0mmodel\u001b[0m\u001b[1;33m.\u001b[0m\u001b[0mpredict\u001b[0m\u001b[1;33m(\u001b[0m\u001b[0mx\u001b[0m\u001b[1;33m)\u001b[0m \u001b[1;32mfor\u001b[0m \u001b[0mx\u001b[0m \u001b[1;32min\u001b[0m \u001b[0mX_test\u001b[0m\u001b[1;33m]\u001b[0m\u001b[1;33m\u001b[0m\u001b[1;33m\u001b[0m\u001b[0m\n",
      "\u001b[1;32m<ipython-input-17-27f7cff2d6b2>\u001b[0m in \u001b[0;36mfit\u001b[1;34m(self, X, y)\u001b[0m\n\u001b[0;32m      8\u001b[0m         \u001b[1;31m# calculate classes and features frequencies\u001b[0m\u001b[1;33m\u001b[0m\u001b[1;33m\u001b[0m\u001b[1;33m\u001b[0m\u001b[0m\n\u001b[0;32m      9\u001b[0m         \u001b[1;32mfor\u001b[0m \u001b[0mfeature\u001b[0m\u001b[1;33m,\u001b[0m \u001b[0mlabel\u001b[0m \u001b[1;32min\u001b[0m \u001b[0mzip\u001b[0m\u001b[1;33m(\u001b[0m\u001b[0mX\u001b[0m\u001b[1;33m,\u001b[0m \u001b[0my\u001b[0m\u001b[1;33m)\u001b[0m\u001b[1;33m:\u001b[0m\u001b[1;33m\u001b[0m\u001b[1;33m\u001b[0m\u001b[0m\n\u001b[1;32m---> 10\u001b[1;33m             \u001b[0mself\u001b[0m\u001b[1;33m.\u001b[0m\u001b[0m__class_freq\u001b[0m\u001b[1;33m[\u001b[0m\u001b[0mlabel\u001b[0m\u001b[1;33m]\u001b[0m \u001b[1;33m+=\u001b[0m \u001b[1;36m1\u001b[0m\u001b[1;33m\u001b[0m\u001b[1;33m\u001b[0m\u001b[0m\n\u001b[0m\u001b[0;32m     11\u001b[0m             \u001b[1;32mfor\u001b[0m \u001b[0mvalue\u001b[0m \u001b[1;32min\u001b[0m \u001b[0mfeature\u001b[0m\u001b[1;33m:\u001b[0m\u001b[1;33m\u001b[0m\u001b[1;33m\u001b[0m\u001b[0m\n\u001b[0;32m     12\u001b[0m                 \u001b[0mself\u001b[0m\u001b[1;33m.\u001b[0m\u001b[0m__feat_freq\u001b[0m\u001b[1;33m[\u001b[0m\u001b[1;33m(\u001b[0m\u001b[0mvalue\u001b[0m\u001b[1;33m,\u001b[0m \u001b[0mlabel\u001b[0m\u001b[1;33m)\u001b[0m\u001b[1;33m]\u001b[0m \u001b[1;33m+=\u001b[0m \u001b[1;36m1\u001b[0m\u001b[1;33m\u001b[0m\u001b[1;33m\u001b[0m\u001b[0m\n",
      "\u001b[1;31mAttributeError\u001b[0m: 'NaiveBayesClassifier' object has no attribute '_NaiveBayesClassifier__class_freq'"
     ]
    }
   ],
   "source": [
    "data = load_iris()\n",
    "\n",
    "X, y = data.data, data.target\n",
    "\n",
    "X_train, X_test, y_train, y_test = train_test_split(X, y,\n",
    "                                                    test_size=0.2,\n",
    "                                                    random_state=42)\n",
    "\n",
    "model = NaiveBayesClassifier().fit(X_train, y_train)\n",
    "\n",
    "predictions = [model.predict(x) for x in X_test]\n",
    "print(accuracy_score(predictions, y_test))"
   ]
  },
  {
   "cell_type": "code",
   "execution_count": null,
   "metadata": {},
   "outputs": [],
   "source": []
  }
 ],
 "metadata": {
  "kernelspec": {
   "display_name": "Python 3",
   "language": "python",
   "name": "python3"
  },
  "language_info": {
   "codemirror_mode": {
    "name": "ipython",
    "version": 3
   },
   "file_extension": ".py",
   "mimetype": "text/x-python",
   "name": "python",
   "nbconvert_exporter": "python",
   "pygments_lexer": "ipython3",
   "version": "3.8.5"
  }
 },
 "nbformat": 4,
 "nbformat_minor": 4
}
