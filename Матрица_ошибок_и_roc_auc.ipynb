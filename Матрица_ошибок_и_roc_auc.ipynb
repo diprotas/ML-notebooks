{
  "nbformat": 4,
  "nbformat_minor": 0,
  "metadata": {
    "colab": {
      "provenance": []
    },
    "kernelspec": {
      "name": "python3",
      "display_name": "Python 3"
    }
  },
  "cells": [
    {
      "cell_type": "markdown",
      "source": [
        "https://www.youtube.com/watch?v=vtSgGDbkAq0"
      ],
      "metadata": {
        "id": "CzM6busLWH8W"
      }
    },
    {
      "cell_type": "code",
      "metadata": {
        "id": "aUwIbwPWFjCa"
      },
      "source": [
        "import pandas as pd\n",
        "import numpy as np"
      ],
      "execution_count": null,
      "outputs": []
    },
    {
      "cell_type": "code",
      "metadata": {
        "id": "Chli_L3RFmFZ"
      },
      "source": [
        "from sklearn.datasets import make_classification"
      ],
      "execution_count": null,
      "outputs": []
    },
    {
      "cell_type": "code",
      "metadata": {
        "id": "QsyNdiU-FzfG"
      },
      "source": [
        "X,y = make_classification(n_samples=15,n_features=5,class_sep=0.2,weights=[0.6],random_state=42)"
      ],
      "execution_count": null,
      "outputs": []
    },
    {
      "cell_type": "code",
      "metadata": {
        "id": "n4Lt7M4FGivC"
      },
      "source": [
        "df = pd.DataFrame(X)"
      ],
      "execution_count": null,
      "outputs": []
    },
    {
      "cell_type": "code",
      "metadata": {
        "id": "jwVEiHD5GjeW"
      },
      "source": [
        "df['y_true'] = y"
      ],
      "execution_count": null,
      "outputs": []
    },
    {
      "cell_type": "code",
      "metadata": {
        "id": "y6HXaruzGtls",
        "outputId": "5b7d90e7-8303-4c70-ee8d-5bd63d2f440f",
        "colab": {
          "base_uri": "https://localhost:8080/",
          "height": 514
        }
      },
      "source": [
        "df"
      ],
      "execution_count": null,
      "outputs": [
        {
          "output_type": "execute_result",
          "data": {
            "text/html": [
              "<div>\n",
              "<style scoped>\n",
              "    .dataframe tbody tr th:only-of-type {\n",
              "        vertical-align: middle;\n",
              "    }\n",
              "\n",
              "    .dataframe tbody tr th {\n",
              "        vertical-align: top;\n",
              "    }\n",
              "\n",
              "    .dataframe thead th {\n",
              "        text-align: right;\n",
              "    }\n",
              "</style>\n",
              "<table border=\"1\" class=\"dataframe\">\n",
              "  <thead>\n",
              "    <tr style=\"text-align: right;\">\n",
              "      <th></th>\n",
              "      <th>0</th>\n",
              "      <th>1</th>\n",
              "      <th>2</th>\n",
              "      <th>3</th>\n",
              "      <th>4</th>\n",
              "      <th>y_true</th>\n",
              "    </tr>\n",
              "  </thead>\n",
              "  <tbody>\n",
              "    <tr>\n",
              "      <th>0</th>\n",
              "      <td>-0.330756</td>\n",
              "      <td>0.456232</td>\n",
              "      <td>0.586056</td>\n",
              "      <td>0.361547</td>\n",
              "      <td>1.057122</td>\n",
              "      <td>1</td>\n",
              "    </tr>\n",
              "    <tr>\n",
              "      <th>1</th>\n",
              "      <td>-0.136681</td>\n",
              "      <td>-0.550740</td>\n",
              "      <td>-0.381580</td>\n",
              "      <td>0.004655</td>\n",
              "      <td>0.931280</td>\n",
              "      <td>1</td>\n",
              "    </tr>\n",
              "    <tr>\n",
              "      <th>2</th>\n",
              "      <td>-1.394857</td>\n",
              "      <td>1.677553</td>\n",
              "      <td>2.263554</td>\n",
              "      <td>1.476453</td>\n",
              "      <td>-1.763040</td>\n",
              "      <td>1</td>\n",
              "    </tr>\n",
              "    <tr>\n",
              "      <th>3</th>\n",
              "      <td>-0.292217</td>\n",
              "      <td>-1.112643</td>\n",
              "      <td>-0.761113</td>\n",
              "      <td>0.022643</td>\n",
              "      <td>-0.301104</td>\n",
              "      <td>0</td>\n",
              "    </tr>\n",
              "    <tr>\n",
              "      <th>4</th>\n",
              "      <td>-0.011965</td>\n",
              "      <td>-0.213767</td>\n",
              "      <td>-0.173091</td>\n",
              "      <td>-0.032009</td>\n",
              "      <td>1.031000</td>\n",
              "      <td>1</td>\n",
              "    </tr>\n",
              "    <tr>\n",
              "      <th>5</th>\n",
              "      <td>-0.149040</td>\n",
              "      <td>-0.783119</td>\n",
              "      <td>-0.570134</td>\n",
              "      <td>-0.030673</td>\n",
              "      <td>-0.460639</td>\n",
              "      <td>0</td>\n",
              "    </tr>\n",
              "    <tr>\n",
              "      <th>6</th>\n",
              "      <td>-0.396427</td>\n",
              "      <td>-0.198236</td>\n",
              "      <td>0.073780</td>\n",
              "      <td>0.287451</td>\n",
              "      <td>-0.719844</td>\n",
              "      <td>0</td>\n",
              "    </tr>\n",
              "    <tr>\n",
              "      <th>7</th>\n",
              "      <td>-0.258120</td>\n",
              "      <td>0.087540</td>\n",
              "      <td>0.230807</td>\n",
              "      <td>0.229577</td>\n",
              "      <td>-0.115648</td>\n",
              "      <td>0</td>\n",
              "    </tr>\n",
              "    <tr>\n",
              "      <th>8</th>\n",
              "      <td>-0.360848</td>\n",
              "      <td>-0.620500</td>\n",
              "      <td>-0.304138</td>\n",
              "      <td>0.175490</td>\n",
              "      <td>-0.839218</td>\n",
              "      <td>1</td>\n",
              "    </tr>\n",
              "    <tr>\n",
              "      <th>9</th>\n",
              "      <td>-0.169714</td>\n",
              "      <td>-0.109288</td>\n",
              "      <td>0.010981</td>\n",
              "      <td>0.118279</td>\n",
              "      <td>-1.478522</td>\n",
              "      <td>0</td>\n",
              "    </tr>\n",
              "    <tr>\n",
              "      <th>10</th>\n",
              "      <td>0.700716</td>\n",
              "      <td>0.041470</td>\n",
              "      <td>-0.391070</td>\n",
              "      <td>-0.568580</td>\n",
              "      <td>0.611676</td>\n",
              "      <td>0</td>\n",
              "    </tr>\n",
              "    <tr>\n",
              "      <th>11</th>\n",
              "      <td>0.653718</td>\n",
              "      <td>0.410004</td>\n",
              "      <td>-0.051543</td>\n",
              "      <td>-0.457741</td>\n",
              "      <td>-0.385082</td>\n",
              "      <td>0</td>\n",
              "    </tr>\n",
              "    <tr>\n",
              "      <th>12</th>\n",
              "      <td>-0.438718</td>\n",
              "      <td>0.610767</td>\n",
              "      <td>0.782089</td>\n",
              "      <td>0.480660</td>\n",
              "      <td>0.324084</td>\n",
              "      <td>0</td>\n",
              "    </tr>\n",
              "    <tr>\n",
              "      <th>13</th>\n",
              "      <td>0.001130</td>\n",
              "      <td>-0.373023</td>\n",
              "      <td>-0.315425</td>\n",
              "      <td>-0.073968</td>\n",
              "      <td>-0.676922</td>\n",
              "      <td>0</td>\n",
              "    </tr>\n",
              "    <tr>\n",
              "      <th>14</th>\n",
              "      <td>-0.223821</td>\n",
              "      <td>0.497722</td>\n",
              "      <td>0.556043</td>\n",
              "      <td>0.281662</td>\n",
              "      <td>0.343618</td>\n",
              "      <td>1</td>\n",
              "    </tr>\n",
              "  </tbody>\n",
              "</table>\n",
              "</div>"
            ],
            "text/plain": [
              "           0         1         2         3         4  y_true\n",
              "0  -0.330756  0.456232  0.586056  0.361547  1.057122       1\n",
              "1  -0.136681 -0.550740 -0.381580  0.004655  0.931280       1\n",
              "2  -1.394857  1.677553  2.263554  1.476453 -1.763040       1\n",
              "3  -0.292217 -1.112643 -0.761113  0.022643 -0.301104       0\n",
              "4  -0.011965 -0.213767 -0.173091 -0.032009  1.031000       1\n",
              "5  -0.149040 -0.783119 -0.570134 -0.030673 -0.460639       0\n",
              "6  -0.396427 -0.198236  0.073780  0.287451 -0.719844       0\n",
              "7  -0.258120  0.087540  0.230807  0.229577 -0.115648       0\n",
              "8  -0.360848 -0.620500 -0.304138  0.175490 -0.839218       1\n",
              "9  -0.169714 -0.109288  0.010981  0.118279 -1.478522       0\n",
              "10  0.700716  0.041470 -0.391070 -0.568580  0.611676       0\n",
              "11  0.653718  0.410004 -0.051543 -0.457741 -0.385082       0\n",
              "12 -0.438718  0.610767  0.782089  0.480660  0.324084       0\n",
              "13  0.001130 -0.373023 -0.315425 -0.073968 -0.676922       0\n",
              "14 -0.223821  0.497722  0.556043  0.281662  0.343618       1"
            ]
          },
          "metadata": {
            "tags": []
          },
          "execution_count": 9
        }
      ]
    },
    {
      "cell_type": "code",
      "metadata": {
        "id": "GOUfEwyJG15Q"
      },
      "source": [
        "from sklearn.linear_model import LogisticRegression"
      ],
      "execution_count": null,
      "outputs": []
    },
    {
      "cell_type": "code",
      "metadata": {
        "id": "kGdya5JBG9Da"
      },
      "source": [
        "lr = LogisticRegression()"
      ],
      "execution_count": null,
      "outputs": []
    },
    {
      "cell_type": "code",
      "metadata": {
        "id": "dE7FdTg2G_II",
        "outputId": "e0191a86-f79d-4ea3-eaf2-99bc187cf5cb",
        "colab": {
          "base_uri": "https://localhost:8080/",
          "height": 102
        }
      },
      "source": [
        "lr.fit(df[[0,1,2,3,4]],df['y_true'])"
      ],
      "execution_count": null,
      "outputs": [
        {
          "output_type": "execute_result",
          "data": {
            "text/plain": [
              "LogisticRegression(C=1.0, class_weight=None, dual=False, fit_intercept=True,\n",
              "                   intercept_scaling=1, l1_ratio=None, max_iter=100,\n",
              "                   multi_class='auto', n_jobs=None, penalty='l2',\n",
              "                   random_state=None, solver='lbfgs', tol=0.0001, verbose=0,\n",
              "                   warm_start=False)"
            ]
          },
          "metadata": {
            "tags": []
          },
          "execution_count": 12
        }
      ]
    },
    {
      "cell_type": "code",
      "metadata": {
        "id": "7J7vVYaPHS-a",
        "outputId": "3bb9c409-fb4b-4fd5-f9e5-07f9753f392a",
        "colab": {
          "base_uri": "https://localhost:8080/",
          "height": 34
        }
      },
      "source": [
        "lr.predict(df[[0,1,2,3,4]])"
      ],
      "execution_count": null,
      "outputs": [
        {
          "output_type": "execute_result",
          "data": {
            "text/plain": [
              "array([1, 1, 1, 0, 1, 0, 0, 0, 0, 0, 0, 0, 1, 0, 1])"
            ]
          },
          "metadata": {
            "tags": []
          },
          "execution_count": 14
        }
      ]
    },
    {
      "cell_type": "code",
      "metadata": {
        "id": "QsT5WMN6IKze",
        "outputId": "9319def7-771d-4d42-cb55-9694a9366bb2",
        "colab": {
          "base_uri": "https://localhost:8080/",
          "height": 68
        }
      },
      "source": [
        "lr.predict_proba(df[[0,1,2,3,4]])[:,1]"
      ],
      "execution_count": null,
      "outputs": [
        {
          "output_type": "execute_result",
          "data": {
            "text/plain": [
              "array([0.7220926 , 0.50281701, 0.70065318, 0.25315883, 0.53124444,\n",
              "       0.23157701, 0.32383082, 0.43166254, 0.24519295, 0.17174035,\n",
              "       0.27263169, 0.18482864, 0.6484592 , 0.21028964, 0.56984163])"
            ]
          },
          "metadata": {
            "tags": []
          },
          "execution_count": 16
        }
      ]
    },
    {
      "cell_type": "code",
      "metadata": {
        "id": "hWGb8zP-IU-v"
      },
      "source": [
        "df['y_score'] = lr.predict_proba(df[[0,1,2,3,4]])[:,1]"
      ],
      "execution_count": null,
      "outputs": []
    },
    {
      "cell_type": "code",
      "metadata": {
        "id": "-h9XBUdoIrty",
        "outputId": "bea6292b-693f-4dca-f496-75495f736e5e",
        "colab": {
          "base_uri": "https://localhost:8080/",
          "height": 514
        }
      },
      "source": [
        "df"
      ],
      "execution_count": null,
      "outputs": [
        {
          "output_type": "execute_result",
          "data": {
            "text/html": [
              "<div>\n",
              "<style scoped>\n",
              "    .dataframe tbody tr th:only-of-type {\n",
              "        vertical-align: middle;\n",
              "    }\n",
              "\n",
              "    .dataframe tbody tr th {\n",
              "        vertical-align: top;\n",
              "    }\n",
              "\n",
              "    .dataframe thead th {\n",
              "        text-align: right;\n",
              "    }\n",
              "</style>\n",
              "<table border=\"1\" class=\"dataframe\">\n",
              "  <thead>\n",
              "    <tr style=\"text-align: right;\">\n",
              "      <th></th>\n",
              "      <th>0</th>\n",
              "      <th>1</th>\n",
              "      <th>2</th>\n",
              "      <th>3</th>\n",
              "      <th>4</th>\n",
              "      <th>y_true</th>\n",
              "      <th>y_score</th>\n",
              "    </tr>\n",
              "  </thead>\n",
              "  <tbody>\n",
              "    <tr>\n",
              "      <th>0</th>\n",
              "      <td>-0.330756</td>\n",
              "      <td>0.456232</td>\n",
              "      <td>0.586056</td>\n",
              "      <td>0.361547</td>\n",
              "      <td>1.057122</td>\n",
              "      <td>1</td>\n",
              "      <td>0.722093</td>\n",
              "    </tr>\n",
              "    <tr>\n",
              "      <th>1</th>\n",
              "      <td>-0.136681</td>\n",
              "      <td>-0.550740</td>\n",
              "      <td>-0.381580</td>\n",
              "      <td>0.004655</td>\n",
              "      <td>0.931280</td>\n",
              "      <td>1</td>\n",
              "      <td>0.502817</td>\n",
              "    </tr>\n",
              "    <tr>\n",
              "      <th>2</th>\n",
              "      <td>-1.394857</td>\n",
              "      <td>1.677553</td>\n",
              "      <td>2.263554</td>\n",
              "      <td>1.476453</td>\n",
              "      <td>-1.763040</td>\n",
              "      <td>1</td>\n",
              "      <td>0.700653</td>\n",
              "    </tr>\n",
              "    <tr>\n",
              "      <th>3</th>\n",
              "      <td>-0.292217</td>\n",
              "      <td>-1.112643</td>\n",
              "      <td>-0.761113</td>\n",
              "      <td>0.022643</td>\n",
              "      <td>-0.301104</td>\n",
              "      <td>0</td>\n",
              "      <td>0.253159</td>\n",
              "    </tr>\n",
              "    <tr>\n",
              "      <th>4</th>\n",
              "      <td>-0.011965</td>\n",
              "      <td>-0.213767</td>\n",
              "      <td>-0.173091</td>\n",
              "      <td>-0.032009</td>\n",
              "      <td>1.031000</td>\n",
              "      <td>1</td>\n",
              "      <td>0.531244</td>\n",
              "    </tr>\n",
              "    <tr>\n",
              "      <th>5</th>\n",
              "      <td>-0.149040</td>\n",
              "      <td>-0.783119</td>\n",
              "      <td>-0.570134</td>\n",
              "      <td>-0.030673</td>\n",
              "      <td>-0.460639</td>\n",
              "      <td>0</td>\n",
              "      <td>0.231577</td>\n",
              "    </tr>\n",
              "    <tr>\n",
              "      <th>6</th>\n",
              "      <td>-0.396427</td>\n",
              "      <td>-0.198236</td>\n",
              "      <td>0.073780</td>\n",
              "      <td>0.287451</td>\n",
              "      <td>-0.719844</td>\n",
              "      <td>0</td>\n",
              "      <td>0.323831</td>\n",
              "    </tr>\n",
              "    <tr>\n",
              "      <th>7</th>\n",
              "      <td>-0.258120</td>\n",
              "      <td>0.087540</td>\n",
              "      <td>0.230807</td>\n",
              "      <td>0.229577</td>\n",
              "      <td>-0.115648</td>\n",
              "      <td>0</td>\n",
              "      <td>0.431663</td>\n",
              "    </tr>\n",
              "    <tr>\n",
              "      <th>8</th>\n",
              "      <td>-0.360848</td>\n",
              "      <td>-0.620500</td>\n",
              "      <td>-0.304138</td>\n",
              "      <td>0.175490</td>\n",
              "      <td>-0.839218</td>\n",
              "      <td>1</td>\n",
              "      <td>0.245193</td>\n",
              "    </tr>\n",
              "    <tr>\n",
              "      <th>9</th>\n",
              "      <td>-0.169714</td>\n",
              "      <td>-0.109288</td>\n",
              "      <td>0.010981</td>\n",
              "      <td>0.118279</td>\n",
              "      <td>-1.478522</td>\n",
              "      <td>0</td>\n",
              "      <td>0.171740</td>\n",
              "    </tr>\n",
              "    <tr>\n",
              "      <th>10</th>\n",
              "      <td>0.700716</td>\n",
              "      <td>0.041470</td>\n",
              "      <td>-0.391070</td>\n",
              "      <td>-0.568580</td>\n",
              "      <td>0.611676</td>\n",
              "      <td>0</td>\n",
              "      <td>0.272632</td>\n",
              "    </tr>\n",
              "    <tr>\n",
              "      <th>11</th>\n",
              "      <td>0.653718</td>\n",
              "      <td>0.410004</td>\n",
              "      <td>-0.051543</td>\n",
              "      <td>-0.457741</td>\n",
              "      <td>-0.385082</td>\n",
              "      <td>0</td>\n",
              "      <td>0.184829</td>\n",
              "    </tr>\n",
              "    <tr>\n",
              "      <th>12</th>\n",
              "      <td>-0.438718</td>\n",
              "      <td>0.610767</td>\n",
              "      <td>0.782089</td>\n",
              "      <td>0.480660</td>\n",
              "      <td>0.324084</td>\n",
              "      <td>0</td>\n",
              "      <td>0.648459</td>\n",
              "    </tr>\n",
              "    <tr>\n",
              "      <th>13</th>\n",
              "      <td>0.001130</td>\n",
              "      <td>-0.373023</td>\n",
              "      <td>-0.315425</td>\n",
              "      <td>-0.073968</td>\n",
              "      <td>-0.676922</td>\n",
              "      <td>0</td>\n",
              "      <td>0.210290</td>\n",
              "    </tr>\n",
              "    <tr>\n",
              "      <th>14</th>\n",
              "      <td>-0.223821</td>\n",
              "      <td>0.497722</td>\n",
              "      <td>0.556043</td>\n",
              "      <td>0.281662</td>\n",
              "      <td>0.343618</td>\n",
              "      <td>1</td>\n",
              "      <td>0.569842</td>\n",
              "    </tr>\n",
              "  </tbody>\n",
              "</table>\n",
              "</div>"
            ],
            "text/plain": [
              "           0         1         2         3         4  y_true   y_score\n",
              "0  -0.330756  0.456232  0.586056  0.361547  1.057122       1  0.722093\n",
              "1  -0.136681 -0.550740 -0.381580  0.004655  0.931280       1  0.502817\n",
              "2  -1.394857  1.677553  2.263554  1.476453 -1.763040       1  0.700653\n",
              "3  -0.292217 -1.112643 -0.761113  0.022643 -0.301104       0  0.253159\n",
              "4  -0.011965 -0.213767 -0.173091 -0.032009  1.031000       1  0.531244\n",
              "5  -0.149040 -0.783119 -0.570134 -0.030673 -0.460639       0  0.231577\n",
              "6  -0.396427 -0.198236  0.073780  0.287451 -0.719844       0  0.323831\n",
              "7  -0.258120  0.087540  0.230807  0.229577 -0.115648       0  0.431663\n",
              "8  -0.360848 -0.620500 -0.304138  0.175490 -0.839218       1  0.245193\n",
              "9  -0.169714 -0.109288  0.010981  0.118279 -1.478522       0  0.171740\n",
              "10  0.700716  0.041470 -0.391070 -0.568580  0.611676       0  0.272632\n",
              "11  0.653718  0.410004 -0.051543 -0.457741 -0.385082       0  0.184829\n",
              "12 -0.438718  0.610767  0.782089  0.480660  0.324084       0  0.648459\n",
              "13  0.001130 -0.373023 -0.315425 -0.073968 -0.676922       0  0.210290\n",
              "14 -0.223821  0.497722  0.556043  0.281662  0.343618       1  0.569842"
            ]
          },
          "metadata": {
            "tags": []
          },
          "execution_count": 18
        }
      ]
    },
    {
      "cell_type": "code",
      "metadata": {
        "id": "AfFrMH6kIsKm"
      },
      "source": [
        "df['y_pred'] = (df['y_score'] > 0.5)*1"
      ],
      "execution_count": null,
      "outputs": []
    },
    {
      "cell_type": "code",
      "metadata": {
        "id": "hVA6Yi8QJjHz",
        "outputId": "8085b3d9-909c-4d0c-a5e2-f01c6386f23c",
        "colab": {
          "base_uri": "https://localhost:8080/",
          "height": 514
        }
      },
      "source": [
        "df"
      ],
      "execution_count": null,
      "outputs": [
        {
          "output_type": "execute_result",
          "data": {
            "text/html": [
              "<div>\n",
              "<style scoped>\n",
              "    .dataframe tbody tr th:only-of-type {\n",
              "        vertical-align: middle;\n",
              "    }\n",
              "\n",
              "    .dataframe tbody tr th {\n",
              "        vertical-align: top;\n",
              "    }\n",
              "\n",
              "    .dataframe thead th {\n",
              "        text-align: right;\n",
              "    }\n",
              "</style>\n",
              "<table border=\"1\" class=\"dataframe\">\n",
              "  <thead>\n",
              "    <tr style=\"text-align: right;\">\n",
              "      <th></th>\n",
              "      <th>0</th>\n",
              "      <th>1</th>\n",
              "      <th>2</th>\n",
              "      <th>3</th>\n",
              "      <th>4</th>\n",
              "      <th>y_true</th>\n",
              "      <th>y_score</th>\n",
              "      <th>y_pred</th>\n",
              "    </tr>\n",
              "  </thead>\n",
              "  <tbody>\n",
              "    <tr>\n",
              "      <th>0</th>\n",
              "      <td>-0.330756</td>\n",
              "      <td>0.456232</td>\n",
              "      <td>0.586056</td>\n",
              "      <td>0.361547</td>\n",
              "      <td>1.057122</td>\n",
              "      <td>1</td>\n",
              "      <td>0.722093</td>\n",
              "      <td>1</td>\n",
              "    </tr>\n",
              "    <tr>\n",
              "      <th>1</th>\n",
              "      <td>-0.136681</td>\n",
              "      <td>-0.550740</td>\n",
              "      <td>-0.381580</td>\n",
              "      <td>0.004655</td>\n",
              "      <td>0.931280</td>\n",
              "      <td>1</td>\n",
              "      <td>0.502817</td>\n",
              "      <td>1</td>\n",
              "    </tr>\n",
              "    <tr>\n",
              "      <th>2</th>\n",
              "      <td>-1.394857</td>\n",
              "      <td>1.677553</td>\n",
              "      <td>2.263554</td>\n",
              "      <td>1.476453</td>\n",
              "      <td>-1.763040</td>\n",
              "      <td>1</td>\n",
              "      <td>0.700653</td>\n",
              "      <td>1</td>\n",
              "    </tr>\n",
              "    <tr>\n",
              "      <th>3</th>\n",
              "      <td>-0.292217</td>\n",
              "      <td>-1.112643</td>\n",
              "      <td>-0.761113</td>\n",
              "      <td>0.022643</td>\n",
              "      <td>-0.301104</td>\n",
              "      <td>0</td>\n",
              "      <td>0.253159</td>\n",
              "      <td>0</td>\n",
              "    </tr>\n",
              "    <tr>\n",
              "      <th>4</th>\n",
              "      <td>-0.011965</td>\n",
              "      <td>-0.213767</td>\n",
              "      <td>-0.173091</td>\n",
              "      <td>-0.032009</td>\n",
              "      <td>1.031000</td>\n",
              "      <td>1</td>\n",
              "      <td>0.531244</td>\n",
              "      <td>1</td>\n",
              "    </tr>\n",
              "    <tr>\n",
              "      <th>5</th>\n",
              "      <td>-0.149040</td>\n",
              "      <td>-0.783119</td>\n",
              "      <td>-0.570134</td>\n",
              "      <td>-0.030673</td>\n",
              "      <td>-0.460639</td>\n",
              "      <td>0</td>\n",
              "      <td>0.231577</td>\n",
              "      <td>0</td>\n",
              "    </tr>\n",
              "    <tr>\n",
              "      <th>6</th>\n",
              "      <td>-0.396427</td>\n",
              "      <td>-0.198236</td>\n",
              "      <td>0.073780</td>\n",
              "      <td>0.287451</td>\n",
              "      <td>-0.719844</td>\n",
              "      <td>0</td>\n",
              "      <td>0.323831</td>\n",
              "      <td>0</td>\n",
              "    </tr>\n",
              "    <tr>\n",
              "      <th>7</th>\n",
              "      <td>-0.258120</td>\n",
              "      <td>0.087540</td>\n",
              "      <td>0.230807</td>\n",
              "      <td>0.229577</td>\n",
              "      <td>-0.115648</td>\n",
              "      <td>0</td>\n",
              "      <td>0.431663</td>\n",
              "      <td>0</td>\n",
              "    </tr>\n",
              "    <tr>\n",
              "      <th>8</th>\n",
              "      <td>-0.360848</td>\n",
              "      <td>-0.620500</td>\n",
              "      <td>-0.304138</td>\n",
              "      <td>0.175490</td>\n",
              "      <td>-0.839218</td>\n",
              "      <td>1</td>\n",
              "      <td>0.245193</td>\n",
              "      <td>0</td>\n",
              "    </tr>\n",
              "    <tr>\n",
              "      <th>9</th>\n",
              "      <td>-0.169714</td>\n",
              "      <td>-0.109288</td>\n",
              "      <td>0.010981</td>\n",
              "      <td>0.118279</td>\n",
              "      <td>-1.478522</td>\n",
              "      <td>0</td>\n",
              "      <td>0.171740</td>\n",
              "      <td>0</td>\n",
              "    </tr>\n",
              "    <tr>\n",
              "      <th>10</th>\n",
              "      <td>0.700716</td>\n",
              "      <td>0.041470</td>\n",
              "      <td>-0.391070</td>\n",
              "      <td>-0.568580</td>\n",
              "      <td>0.611676</td>\n",
              "      <td>0</td>\n",
              "      <td>0.272632</td>\n",
              "      <td>0</td>\n",
              "    </tr>\n",
              "    <tr>\n",
              "      <th>11</th>\n",
              "      <td>0.653718</td>\n",
              "      <td>0.410004</td>\n",
              "      <td>-0.051543</td>\n",
              "      <td>-0.457741</td>\n",
              "      <td>-0.385082</td>\n",
              "      <td>0</td>\n",
              "      <td>0.184829</td>\n",
              "      <td>0</td>\n",
              "    </tr>\n",
              "    <tr>\n",
              "      <th>12</th>\n",
              "      <td>-0.438718</td>\n",
              "      <td>0.610767</td>\n",
              "      <td>0.782089</td>\n",
              "      <td>0.480660</td>\n",
              "      <td>0.324084</td>\n",
              "      <td>0</td>\n",
              "      <td>0.648459</td>\n",
              "      <td>1</td>\n",
              "    </tr>\n",
              "    <tr>\n",
              "      <th>13</th>\n",
              "      <td>0.001130</td>\n",
              "      <td>-0.373023</td>\n",
              "      <td>-0.315425</td>\n",
              "      <td>-0.073968</td>\n",
              "      <td>-0.676922</td>\n",
              "      <td>0</td>\n",
              "      <td>0.210290</td>\n",
              "      <td>0</td>\n",
              "    </tr>\n",
              "    <tr>\n",
              "      <th>14</th>\n",
              "      <td>-0.223821</td>\n",
              "      <td>0.497722</td>\n",
              "      <td>0.556043</td>\n",
              "      <td>0.281662</td>\n",
              "      <td>0.343618</td>\n",
              "      <td>1</td>\n",
              "      <td>0.569842</td>\n",
              "      <td>1</td>\n",
              "    </tr>\n",
              "  </tbody>\n",
              "</table>\n",
              "</div>"
            ],
            "text/plain": [
              "           0         1         2         3         4  y_true   y_score  y_pred\n",
              "0  -0.330756  0.456232  0.586056  0.361547  1.057122       1  0.722093       1\n",
              "1  -0.136681 -0.550740 -0.381580  0.004655  0.931280       1  0.502817       1\n",
              "2  -1.394857  1.677553  2.263554  1.476453 -1.763040       1  0.700653       1\n",
              "3  -0.292217 -1.112643 -0.761113  0.022643 -0.301104       0  0.253159       0\n",
              "4  -0.011965 -0.213767 -0.173091 -0.032009  1.031000       1  0.531244       1\n",
              "5  -0.149040 -0.783119 -0.570134 -0.030673 -0.460639       0  0.231577       0\n",
              "6  -0.396427 -0.198236  0.073780  0.287451 -0.719844       0  0.323831       0\n",
              "7  -0.258120  0.087540  0.230807  0.229577 -0.115648       0  0.431663       0\n",
              "8  -0.360848 -0.620500 -0.304138  0.175490 -0.839218       1  0.245193       0\n",
              "9  -0.169714 -0.109288  0.010981  0.118279 -1.478522       0  0.171740       0\n",
              "10  0.700716  0.041470 -0.391070 -0.568580  0.611676       0  0.272632       0\n",
              "11  0.653718  0.410004 -0.051543 -0.457741 -0.385082       0  0.184829       0\n",
              "12 -0.438718  0.610767  0.782089  0.480660  0.324084       0  0.648459       1\n",
              "13  0.001130 -0.373023 -0.315425 -0.073968 -0.676922       0  0.210290       0\n",
              "14 -0.223821  0.497722  0.556043  0.281662  0.343618       1  0.569842       1"
            ]
          },
          "metadata": {
            "tags": []
          },
          "execution_count": 22
        }
      ]
    },
    {
      "cell_type": "code",
      "metadata": {
        "id": "nyYl4cHWJx_u"
      },
      "source": [
        "# функция матрицы ошибок для сравнения бинарных значений двух признаков y_true\tи\ty_pred\n",
        "def get_cm(row):\n",
        "  if row['y_true'] == 1 and row['y_pred'] == 1:\n",
        "    return 'tp'\n",
        "  if row['y_true'] == 0 and row['y_pred'] == 0:\n",
        "    return 'tn'\n",
        "  if row['y_true'] == 1 and row['y_pred'] == 0:\n",
        "    return 'fn'\n",
        "  if row['y_true'] == 0 and row['y_pred'] == 1:\n",
        "    return 'fp'"
      ],
      "execution_count": null,
      "outputs": []
    },
    {
      "cell_type": "code",
      "metadata": {
        "id": "UB0ac7wAMkp4"
      },
      "source": [
        "# создаём колонку матрицы ошибок\n",
        "df['cm']= df.apply(get_cm,axis=1)"
      ],
      "execution_count": null,
      "outputs": []
    },
    {
      "cell_type": "code",
      "metadata": {
        "id": "c7dn8ggQMoO7",
        "outputId": "9554d148-ba5e-4099-a0e6-4d04064fba3c",
        "colab": {
          "base_uri": "https://localhost:8080/",
          "height": 514
        }
      },
      "source": [
        "df"
      ],
      "execution_count": null,
      "outputs": [
        {
          "output_type": "execute_result",
          "data": {
            "text/html": [
              "<div>\n",
              "<style scoped>\n",
              "    .dataframe tbody tr th:only-of-type {\n",
              "        vertical-align: middle;\n",
              "    }\n",
              "\n",
              "    .dataframe tbody tr th {\n",
              "        vertical-align: top;\n",
              "    }\n",
              "\n",
              "    .dataframe thead th {\n",
              "        text-align: right;\n",
              "    }\n",
              "</style>\n",
              "<table border=\"1\" class=\"dataframe\">\n",
              "  <thead>\n",
              "    <tr style=\"text-align: right;\">\n",
              "      <th></th>\n",
              "      <th>0</th>\n",
              "      <th>1</th>\n",
              "      <th>2</th>\n",
              "      <th>3</th>\n",
              "      <th>4</th>\n",
              "      <th>y_true</th>\n",
              "      <th>y_score</th>\n",
              "      <th>y_pred</th>\n",
              "      <th>cm</th>\n",
              "    </tr>\n",
              "  </thead>\n",
              "  <tbody>\n",
              "    <tr>\n",
              "      <th>0</th>\n",
              "      <td>-0.330756</td>\n",
              "      <td>0.456232</td>\n",
              "      <td>0.586056</td>\n",
              "      <td>0.361547</td>\n",
              "      <td>1.057122</td>\n",
              "      <td>1</td>\n",
              "      <td>0.722093</td>\n",
              "      <td>1</td>\n",
              "      <td>tp</td>\n",
              "    </tr>\n",
              "    <tr>\n",
              "      <th>1</th>\n",
              "      <td>-0.136681</td>\n",
              "      <td>-0.550740</td>\n",
              "      <td>-0.381580</td>\n",
              "      <td>0.004655</td>\n",
              "      <td>0.931280</td>\n",
              "      <td>1</td>\n",
              "      <td>0.502817</td>\n",
              "      <td>1</td>\n",
              "      <td>tp</td>\n",
              "    </tr>\n",
              "    <tr>\n",
              "      <th>2</th>\n",
              "      <td>-1.394857</td>\n",
              "      <td>1.677553</td>\n",
              "      <td>2.263554</td>\n",
              "      <td>1.476453</td>\n",
              "      <td>-1.763040</td>\n",
              "      <td>1</td>\n",
              "      <td>0.700653</td>\n",
              "      <td>1</td>\n",
              "      <td>tp</td>\n",
              "    </tr>\n",
              "    <tr>\n",
              "      <th>3</th>\n",
              "      <td>-0.292217</td>\n",
              "      <td>-1.112643</td>\n",
              "      <td>-0.761113</td>\n",
              "      <td>0.022643</td>\n",
              "      <td>-0.301104</td>\n",
              "      <td>0</td>\n",
              "      <td>0.253159</td>\n",
              "      <td>0</td>\n",
              "      <td>tn</td>\n",
              "    </tr>\n",
              "    <tr>\n",
              "      <th>4</th>\n",
              "      <td>-0.011965</td>\n",
              "      <td>-0.213767</td>\n",
              "      <td>-0.173091</td>\n",
              "      <td>-0.032009</td>\n",
              "      <td>1.031000</td>\n",
              "      <td>1</td>\n",
              "      <td>0.531244</td>\n",
              "      <td>1</td>\n",
              "      <td>tp</td>\n",
              "    </tr>\n",
              "    <tr>\n",
              "      <th>5</th>\n",
              "      <td>-0.149040</td>\n",
              "      <td>-0.783119</td>\n",
              "      <td>-0.570134</td>\n",
              "      <td>-0.030673</td>\n",
              "      <td>-0.460639</td>\n",
              "      <td>0</td>\n",
              "      <td>0.231577</td>\n",
              "      <td>0</td>\n",
              "      <td>tn</td>\n",
              "    </tr>\n",
              "    <tr>\n",
              "      <th>6</th>\n",
              "      <td>-0.396427</td>\n",
              "      <td>-0.198236</td>\n",
              "      <td>0.073780</td>\n",
              "      <td>0.287451</td>\n",
              "      <td>-0.719844</td>\n",
              "      <td>0</td>\n",
              "      <td>0.323831</td>\n",
              "      <td>0</td>\n",
              "      <td>tn</td>\n",
              "    </tr>\n",
              "    <tr>\n",
              "      <th>7</th>\n",
              "      <td>-0.258120</td>\n",
              "      <td>0.087540</td>\n",
              "      <td>0.230807</td>\n",
              "      <td>0.229577</td>\n",
              "      <td>-0.115648</td>\n",
              "      <td>0</td>\n",
              "      <td>0.431663</td>\n",
              "      <td>0</td>\n",
              "      <td>tn</td>\n",
              "    </tr>\n",
              "    <tr>\n",
              "      <th>8</th>\n",
              "      <td>-0.360848</td>\n",
              "      <td>-0.620500</td>\n",
              "      <td>-0.304138</td>\n",
              "      <td>0.175490</td>\n",
              "      <td>-0.839218</td>\n",
              "      <td>1</td>\n",
              "      <td>0.245193</td>\n",
              "      <td>0</td>\n",
              "      <td>fn</td>\n",
              "    </tr>\n",
              "    <tr>\n",
              "      <th>9</th>\n",
              "      <td>-0.169714</td>\n",
              "      <td>-0.109288</td>\n",
              "      <td>0.010981</td>\n",
              "      <td>0.118279</td>\n",
              "      <td>-1.478522</td>\n",
              "      <td>0</td>\n",
              "      <td>0.171740</td>\n",
              "      <td>0</td>\n",
              "      <td>tn</td>\n",
              "    </tr>\n",
              "    <tr>\n",
              "      <th>10</th>\n",
              "      <td>0.700716</td>\n",
              "      <td>0.041470</td>\n",
              "      <td>-0.391070</td>\n",
              "      <td>-0.568580</td>\n",
              "      <td>0.611676</td>\n",
              "      <td>0</td>\n",
              "      <td>0.272632</td>\n",
              "      <td>0</td>\n",
              "      <td>tn</td>\n",
              "    </tr>\n",
              "    <tr>\n",
              "      <th>11</th>\n",
              "      <td>0.653718</td>\n",
              "      <td>0.410004</td>\n",
              "      <td>-0.051543</td>\n",
              "      <td>-0.457741</td>\n",
              "      <td>-0.385082</td>\n",
              "      <td>0</td>\n",
              "      <td>0.184829</td>\n",
              "      <td>0</td>\n",
              "      <td>tn</td>\n",
              "    </tr>\n",
              "    <tr>\n",
              "      <th>12</th>\n",
              "      <td>-0.438718</td>\n",
              "      <td>0.610767</td>\n",
              "      <td>0.782089</td>\n",
              "      <td>0.480660</td>\n",
              "      <td>0.324084</td>\n",
              "      <td>0</td>\n",
              "      <td>0.648459</td>\n",
              "      <td>1</td>\n",
              "      <td>fp</td>\n",
              "    </tr>\n",
              "    <tr>\n",
              "      <th>13</th>\n",
              "      <td>0.001130</td>\n",
              "      <td>-0.373023</td>\n",
              "      <td>-0.315425</td>\n",
              "      <td>-0.073968</td>\n",
              "      <td>-0.676922</td>\n",
              "      <td>0</td>\n",
              "      <td>0.210290</td>\n",
              "      <td>0</td>\n",
              "      <td>tn</td>\n",
              "    </tr>\n",
              "    <tr>\n",
              "      <th>14</th>\n",
              "      <td>-0.223821</td>\n",
              "      <td>0.497722</td>\n",
              "      <td>0.556043</td>\n",
              "      <td>0.281662</td>\n",
              "      <td>0.343618</td>\n",
              "      <td>1</td>\n",
              "      <td>0.569842</td>\n",
              "      <td>1</td>\n",
              "      <td>tp</td>\n",
              "    </tr>\n",
              "  </tbody>\n",
              "</table>\n",
              "</div>"
            ],
            "text/plain": [
              "           0         1         2         3  ...  y_true   y_score  y_pred  cm\n",
              "0  -0.330756  0.456232  0.586056  0.361547  ...       1  0.722093       1  tp\n",
              "1  -0.136681 -0.550740 -0.381580  0.004655  ...       1  0.502817       1  tp\n",
              "2  -1.394857  1.677553  2.263554  1.476453  ...       1  0.700653       1  tp\n",
              "3  -0.292217 -1.112643 -0.761113  0.022643  ...       0  0.253159       0  tn\n",
              "4  -0.011965 -0.213767 -0.173091 -0.032009  ...       1  0.531244       1  tp\n",
              "5  -0.149040 -0.783119 -0.570134 -0.030673  ...       0  0.231577       0  tn\n",
              "6  -0.396427 -0.198236  0.073780  0.287451  ...       0  0.323831       0  tn\n",
              "7  -0.258120  0.087540  0.230807  0.229577  ...       0  0.431663       0  tn\n",
              "8  -0.360848 -0.620500 -0.304138  0.175490  ...       1  0.245193       0  fn\n",
              "9  -0.169714 -0.109288  0.010981  0.118279  ...       0  0.171740       0  tn\n",
              "10  0.700716  0.041470 -0.391070 -0.568580  ...       0  0.272632       0  tn\n",
              "11  0.653718  0.410004 -0.051543 -0.457741  ...       0  0.184829       0  tn\n",
              "12 -0.438718  0.610767  0.782089  0.480660  ...       0  0.648459       1  fp\n",
              "13  0.001130 -0.373023 -0.315425 -0.073968  ...       0  0.210290       0  tn\n",
              "14 -0.223821  0.497722  0.556043  0.281662  ...       1  0.569842       1  tp\n",
              "\n",
              "[15 rows x 9 columns]"
            ]
          },
          "metadata": {
            "tags": []
          },
          "execution_count": 29
        }
      ]
    },
    {
      "cell_type": "code",
      "metadata": {
        "id": "J6lqHqfVMwrH",
        "outputId": "d55811da-0f2d-4b78-b51c-8c3792234e45",
        "colab": {
          "base_uri": "https://localhost:8080/",
          "height": 102
        }
      },
      "source": [
        "df['cm'].value_counts()"
      ],
      "execution_count": null,
      "outputs": [
        {
          "output_type": "execute_result",
          "data": {
            "text/plain": [
              "tn    8\n",
              "tp    5\n",
              "fn    1\n",
              "fp    1\n",
              "Name: cm, dtype: int64"
            ]
          },
          "metadata": {
            "tags": []
          },
          "execution_count": 30
        }
      ]
    },
    {
      "cell_type": "code",
      "metadata": {
        "id": "K9zHpDETM1om"
      },
      "source": [
        "from sklearn.metrics import confusion_matrix"
      ],
      "execution_count": null,
      "outputs": []
    },
    {
      "cell_type": "code",
      "metadata": {
        "id": "R2A0z8PDNEFQ",
        "outputId": "d16de5ff-589e-48d7-d732-335dd12ec6d0",
        "colab": {
          "base_uri": "https://localhost:8080/",
          "height": 51
        }
      },
      "source": [
        "confusion_matrix(df['y_true'],df['y_pred'])"
      ],
      "execution_count": null,
      "outputs": [
        {
          "output_type": "execute_result",
          "data": {
            "text/plain": [
              "array([[8, 1],\n",
              "       [1, 5]])"
            ]
          },
          "metadata": {
            "tags": []
          },
          "execution_count": 32
        }
      ]
    },
    {
      "cell_type": "code",
      "metadata": {
        "id": "GAufAmCLNPg9"
      },
      "source": [
        "tn, fp, fn, tp = confusion_matrix(df['y_true'],df['y_pred']).ravel()"
      ],
      "execution_count": null,
      "outputs": []
    },
    {
      "cell_type": "code",
      "metadata": {
        "id": "iETjkXoDNdR4",
        "outputId": "7c20d35c-226e-44ce-b5e2-02635bfafbff",
        "colab": {
          "base_uri": "https://localhost:8080/",
          "height": 102
        }
      },
      "source": [
        "df['cm'].value_counts()"
      ],
      "execution_count": null,
      "outputs": [
        {
          "output_type": "execute_result",
          "data": {
            "text/plain": [
              "tn    8\n",
              "tp    5\n",
              "fn    1\n",
              "fp    1\n",
              "Name: cm, dtype: int64"
            ]
          },
          "metadata": {
            "tags": []
          },
          "execution_count": 35
        }
      ]
    },
    {
      "cell_type": "code",
      "metadata": {
        "id": "SvIxE6gpNZJ5",
        "outputId": "ce83adf2-6839-4bb0-e20e-b664f6514393",
        "colab": {
          "base_uri": "https://localhost:8080/",
          "height": 34
        }
      },
      "source": [
        "tn, tp, fn, fp"
      ],
      "execution_count": null,
      "outputs": [
        {
          "output_type": "execute_result",
          "data": {
            "text/plain": [
              "(8, 5, 1, 1)"
            ]
          },
          "metadata": {
            "tags": []
          },
          "execution_count": 34
        }
      ]
    },
    {
      "cell_type": "code",
      "metadata": {
        "id": "jAi9_4s1NcGS",
        "outputId": "9b814ecd-dba3-4b90-8688-92dc5a1f1f18",
        "colab": {
          "base_uri": "https://localhost:8080/",
          "height": 514
        }
      },
      "source": [
        "df"
      ],
      "execution_count": null,
      "outputs": [
        {
          "output_type": "execute_result",
          "data": {
            "text/html": [
              "<div>\n",
              "<style scoped>\n",
              "    .dataframe tbody tr th:only-of-type {\n",
              "        vertical-align: middle;\n",
              "    }\n",
              "\n",
              "    .dataframe tbody tr th {\n",
              "        vertical-align: top;\n",
              "    }\n",
              "\n",
              "    .dataframe thead th {\n",
              "        text-align: right;\n",
              "    }\n",
              "</style>\n",
              "<table border=\"1\" class=\"dataframe\">\n",
              "  <thead>\n",
              "    <tr style=\"text-align: right;\">\n",
              "      <th></th>\n",
              "      <th>0</th>\n",
              "      <th>1</th>\n",
              "      <th>2</th>\n",
              "      <th>3</th>\n",
              "      <th>4</th>\n",
              "      <th>y_true</th>\n",
              "      <th>y_score</th>\n",
              "      <th>y_pred</th>\n",
              "      <th>cm</th>\n",
              "    </tr>\n",
              "  </thead>\n",
              "  <tbody>\n",
              "    <tr>\n",
              "      <th>0</th>\n",
              "      <td>-0.330756</td>\n",
              "      <td>0.456232</td>\n",
              "      <td>0.586056</td>\n",
              "      <td>0.361547</td>\n",
              "      <td>1.057122</td>\n",
              "      <td>1</td>\n",
              "      <td>0.722093</td>\n",
              "      <td>1</td>\n",
              "      <td>tp</td>\n",
              "    </tr>\n",
              "    <tr>\n",
              "      <th>1</th>\n",
              "      <td>-0.136681</td>\n",
              "      <td>-0.550740</td>\n",
              "      <td>-0.381580</td>\n",
              "      <td>0.004655</td>\n",
              "      <td>0.931280</td>\n",
              "      <td>1</td>\n",
              "      <td>0.502817</td>\n",
              "      <td>1</td>\n",
              "      <td>tp</td>\n",
              "    </tr>\n",
              "    <tr>\n",
              "      <th>2</th>\n",
              "      <td>-1.394857</td>\n",
              "      <td>1.677553</td>\n",
              "      <td>2.263554</td>\n",
              "      <td>1.476453</td>\n",
              "      <td>-1.763040</td>\n",
              "      <td>1</td>\n",
              "      <td>0.700653</td>\n",
              "      <td>1</td>\n",
              "      <td>tp</td>\n",
              "    </tr>\n",
              "    <tr>\n",
              "      <th>3</th>\n",
              "      <td>-0.292217</td>\n",
              "      <td>-1.112643</td>\n",
              "      <td>-0.761113</td>\n",
              "      <td>0.022643</td>\n",
              "      <td>-0.301104</td>\n",
              "      <td>0</td>\n",
              "      <td>0.253159</td>\n",
              "      <td>0</td>\n",
              "      <td>tn</td>\n",
              "    </tr>\n",
              "    <tr>\n",
              "      <th>4</th>\n",
              "      <td>-0.011965</td>\n",
              "      <td>-0.213767</td>\n",
              "      <td>-0.173091</td>\n",
              "      <td>-0.032009</td>\n",
              "      <td>1.031000</td>\n",
              "      <td>1</td>\n",
              "      <td>0.531244</td>\n",
              "      <td>1</td>\n",
              "      <td>tp</td>\n",
              "    </tr>\n",
              "    <tr>\n",
              "      <th>5</th>\n",
              "      <td>-0.149040</td>\n",
              "      <td>-0.783119</td>\n",
              "      <td>-0.570134</td>\n",
              "      <td>-0.030673</td>\n",
              "      <td>-0.460639</td>\n",
              "      <td>0</td>\n",
              "      <td>0.231577</td>\n",
              "      <td>0</td>\n",
              "      <td>tn</td>\n",
              "    </tr>\n",
              "    <tr>\n",
              "      <th>6</th>\n",
              "      <td>-0.396427</td>\n",
              "      <td>-0.198236</td>\n",
              "      <td>0.073780</td>\n",
              "      <td>0.287451</td>\n",
              "      <td>-0.719844</td>\n",
              "      <td>0</td>\n",
              "      <td>0.323831</td>\n",
              "      <td>0</td>\n",
              "      <td>tn</td>\n",
              "    </tr>\n",
              "    <tr>\n",
              "      <th>7</th>\n",
              "      <td>-0.258120</td>\n",
              "      <td>0.087540</td>\n",
              "      <td>0.230807</td>\n",
              "      <td>0.229577</td>\n",
              "      <td>-0.115648</td>\n",
              "      <td>0</td>\n",
              "      <td>0.431663</td>\n",
              "      <td>0</td>\n",
              "      <td>tn</td>\n",
              "    </tr>\n",
              "    <tr>\n",
              "      <th>8</th>\n",
              "      <td>-0.360848</td>\n",
              "      <td>-0.620500</td>\n",
              "      <td>-0.304138</td>\n",
              "      <td>0.175490</td>\n",
              "      <td>-0.839218</td>\n",
              "      <td>1</td>\n",
              "      <td>0.245193</td>\n",
              "      <td>0</td>\n",
              "      <td>fn</td>\n",
              "    </tr>\n",
              "    <tr>\n",
              "      <th>9</th>\n",
              "      <td>-0.169714</td>\n",
              "      <td>-0.109288</td>\n",
              "      <td>0.010981</td>\n",
              "      <td>0.118279</td>\n",
              "      <td>-1.478522</td>\n",
              "      <td>0</td>\n",
              "      <td>0.171740</td>\n",
              "      <td>0</td>\n",
              "      <td>tn</td>\n",
              "    </tr>\n",
              "    <tr>\n",
              "      <th>10</th>\n",
              "      <td>0.700716</td>\n",
              "      <td>0.041470</td>\n",
              "      <td>-0.391070</td>\n",
              "      <td>-0.568580</td>\n",
              "      <td>0.611676</td>\n",
              "      <td>0</td>\n",
              "      <td>0.272632</td>\n",
              "      <td>0</td>\n",
              "      <td>tn</td>\n",
              "    </tr>\n",
              "    <tr>\n",
              "      <th>11</th>\n",
              "      <td>0.653718</td>\n",
              "      <td>0.410004</td>\n",
              "      <td>-0.051543</td>\n",
              "      <td>-0.457741</td>\n",
              "      <td>-0.385082</td>\n",
              "      <td>0</td>\n",
              "      <td>0.184829</td>\n",
              "      <td>0</td>\n",
              "      <td>tn</td>\n",
              "    </tr>\n",
              "    <tr>\n",
              "      <th>12</th>\n",
              "      <td>-0.438718</td>\n",
              "      <td>0.610767</td>\n",
              "      <td>0.782089</td>\n",
              "      <td>0.480660</td>\n",
              "      <td>0.324084</td>\n",
              "      <td>0</td>\n",
              "      <td>0.648459</td>\n",
              "      <td>1</td>\n",
              "      <td>fp</td>\n",
              "    </tr>\n",
              "    <tr>\n",
              "      <th>13</th>\n",
              "      <td>0.001130</td>\n",
              "      <td>-0.373023</td>\n",
              "      <td>-0.315425</td>\n",
              "      <td>-0.073968</td>\n",
              "      <td>-0.676922</td>\n",
              "      <td>0</td>\n",
              "      <td>0.210290</td>\n",
              "      <td>0</td>\n",
              "      <td>tn</td>\n",
              "    </tr>\n",
              "    <tr>\n",
              "      <th>14</th>\n",
              "      <td>-0.223821</td>\n",
              "      <td>0.497722</td>\n",
              "      <td>0.556043</td>\n",
              "      <td>0.281662</td>\n",
              "      <td>0.343618</td>\n",
              "      <td>1</td>\n",
              "      <td>0.569842</td>\n",
              "      <td>1</td>\n",
              "      <td>tp</td>\n",
              "    </tr>\n",
              "  </tbody>\n",
              "</table>\n",
              "</div>"
            ],
            "text/plain": [
              "           0         1         2         3  ...  y_true   y_score  y_pred  cm\n",
              "0  -0.330756  0.456232  0.586056  0.361547  ...       1  0.722093       1  tp\n",
              "1  -0.136681 -0.550740 -0.381580  0.004655  ...       1  0.502817       1  tp\n",
              "2  -1.394857  1.677553  2.263554  1.476453  ...       1  0.700653       1  tp\n",
              "3  -0.292217 -1.112643 -0.761113  0.022643  ...       0  0.253159       0  tn\n",
              "4  -0.011965 -0.213767 -0.173091 -0.032009  ...       1  0.531244       1  tp\n",
              "5  -0.149040 -0.783119 -0.570134 -0.030673  ...       0  0.231577       0  tn\n",
              "6  -0.396427 -0.198236  0.073780  0.287451  ...       0  0.323831       0  tn\n",
              "7  -0.258120  0.087540  0.230807  0.229577  ...       0  0.431663       0  tn\n",
              "8  -0.360848 -0.620500 -0.304138  0.175490  ...       1  0.245193       0  fn\n",
              "9  -0.169714 -0.109288  0.010981  0.118279  ...       0  0.171740       0  tn\n",
              "10  0.700716  0.041470 -0.391070 -0.568580  ...       0  0.272632       0  tn\n",
              "11  0.653718  0.410004 -0.051543 -0.457741  ...       0  0.184829       0  tn\n",
              "12 -0.438718  0.610767  0.782089  0.480660  ...       0  0.648459       1  fp\n",
              "13  0.001130 -0.373023 -0.315425 -0.073968  ...       0  0.210290       0  tn\n",
              "14 -0.223821  0.497722  0.556043  0.281662  ...       1  0.569842       1  tp\n",
              "\n",
              "[15 rows x 9 columns]"
            ]
          },
          "metadata": {
            "tags": []
          },
          "execution_count": 36
        }
      ]
    },
    {
      "cell_type": "code",
      "metadata": {
        "id": "wf9og6JJO2mX",
        "outputId": "d493686b-2b12-4a51-d78a-1d3987c5a328",
        "colab": {
          "base_uri": "https://localhost:8080/",
          "height": 34
        }
      },
      "source": [
        "df['y_score'].nunique()"
      ],
      "execution_count": null,
      "outputs": [
        {
          "output_type": "execute_result",
          "data": {
            "text/plain": [
              "15"
            ]
          },
          "metadata": {
            "tags": []
          },
          "execution_count": 38
        }
      ]
    },
    {
      "cell_type": "code",
      "metadata": {
        "id": "1xwRvF7TPNQB"
      },
      "source": [
        "thrs = list(np.sort(df['y_score'].unique()))"
      ],
      "execution_count": null,
      "outputs": []
    },
    {
      "cell_type": "code",
      "metadata": {
        "id": "88eMOTOaPSAB"
      },
      "source": [
        "thrs = [0] + thrs"
      ],
      "execution_count": null,
      "outputs": []
    },
    {
      "cell_type": "code",
      "metadata": {
        "id": "TLZTNBRdPrIv"
      },
      "source": [
        "thr = thrs[3]"
      ],
      "execution_count": null,
      "outputs": []
    },
    {
      "cell_type": "code",
      "metadata": {
        "id": "eGsXy0O9P0bu",
        "outputId": "17170357-6e04-4d2f-918a-8963a62a0fd9",
        "colab": {
          "base_uri": "https://localhost:8080/",
          "height": 34
        }
      },
      "source": [
        "thr"
      ],
      "execution_count": null,
      "outputs": [
        {
          "output_type": "execute_result",
          "data": {
            "text/plain": [
              "0.2102896429854381"
            ]
          },
          "metadata": {
            "tags": []
          },
          "execution_count": 82
        }
      ]
    },
    {
      "cell_type": "code",
      "metadata": {
        "id": "Mx5C2p6UP1M1"
      },
      "source": [
        "df['y_pred'] = (df['y_score'] > thr)*1"
      ],
      "execution_count": null,
      "outputs": []
    },
    {
      "cell_type": "code",
      "metadata": {
        "id": "9b0g6Q8RP_xO"
      },
      "source": [
        "tp = len(df[(df['y_true']==1)&(df['y_pred']==1)])\n",
        "tn = len(df[(df['y_true']==0)&(df['y_pred']==0)])\n",
        "fp = len(df[(df['y_true']==0)&(df['y_pred']==1)])\n",
        "fn = len(df[(df['y_true']==1)&(df['y_pred']==0)])"
      ],
      "execution_count": null,
      "outputs": []
    },
    {
      "cell_type": "code",
      "metadata": {
        "id": "LnErAd40QAM9"
      },
      "source": [
        "res = []\n",
        "for thr in thrs:\n",
        "  df['y_pred'] = (df['y_score'] > thr)*1\n",
        "  tp = len(df[(df['y_true']==1)&(df['y_pred']==1)])\n",
        "  tn = len(df[(df['y_true']==0)&(df['y_pred']==0)])\n",
        "  fp = len(df[(df['y_true']==0)&(df['y_pred']==1)])\n",
        "  fn = len(df[(df['y_true']==1)&(df['y_pred']==0)])\n",
        "  res.append((tp,tn,fp,fn,thr))"
      ],
      "execution_count": null,
      "outputs": []
    },
    {
      "cell_type": "code",
      "metadata": {
        "id": "i4RQO2quQe1O"
      },
      "source": [
        "cm = pd.DataFrame(res)"
      ],
      "execution_count": null,
      "outputs": []
    },
    {
      "cell_type": "code",
      "metadata": {
        "id": "7HjwiVBFQ-QS",
        "outputId": "e393a3e0-68e1-4260-bc37-998efe5b6a61",
        "colab": {
          "base_uri": "https://localhost:8080/",
          "height": 34
        }
      },
      "source": [
        "'tp,tn,fp,fn,thr'.split(',')"
      ],
      "execution_count": null,
      "outputs": [
        {
          "output_type": "execute_result",
          "data": {
            "text/plain": [
              "['tp', 'tn', 'fp', 'fn', 'thr']"
            ]
          },
          "metadata": {
            "tags": []
          },
          "execution_count": 87
        }
      ]
    },
    {
      "cell_type": "code",
      "metadata": {
        "id": "hq7TBfFeQ3h_"
      },
      "source": [
        "cm.columns = ['tp', 'tn', 'fp', 'fn', 'thr']"
      ],
      "execution_count": null,
      "outputs": []
    },
    {
      "cell_type": "code",
      "metadata": {
        "id": "w9lD6j63Q89P",
        "outputId": "d7205daa-67d5-42fb-896e-49f60a12a845",
        "colab": {
          "base_uri": "https://localhost:8080/",
          "height": 545
        }
      },
      "source": [
        "cm"
      ],
      "execution_count": null,
      "outputs": [
        {
          "output_type": "execute_result",
          "data": {
            "text/html": [
              "<div>\n",
              "<style scoped>\n",
              "    .dataframe tbody tr th:only-of-type {\n",
              "        vertical-align: middle;\n",
              "    }\n",
              "\n",
              "    .dataframe tbody tr th {\n",
              "        vertical-align: top;\n",
              "    }\n",
              "\n",
              "    .dataframe thead th {\n",
              "        text-align: right;\n",
              "    }\n",
              "</style>\n",
              "<table border=\"1\" class=\"dataframe\">\n",
              "  <thead>\n",
              "    <tr style=\"text-align: right;\">\n",
              "      <th></th>\n",
              "      <th>tp</th>\n",
              "      <th>tn</th>\n",
              "      <th>fp</th>\n",
              "      <th>fn</th>\n",
              "      <th>thr</th>\n",
              "    </tr>\n",
              "  </thead>\n",
              "  <tbody>\n",
              "    <tr>\n",
              "      <th>0</th>\n",
              "      <td>6</td>\n",
              "      <td>0</td>\n",
              "      <td>9</td>\n",
              "      <td>0</td>\n",
              "      <td>0.000000</td>\n",
              "    </tr>\n",
              "    <tr>\n",
              "      <th>1</th>\n",
              "      <td>6</td>\n",
              "      <td>1</td>\n",
              "      <td>8</td>\n",
              "      <td>0</td>\n",
              "      <td>0.171740</td>\n",
              "    </tr>\n",
              "    <tr>\n",
              "      <th>2</th>\n",
              "      <td>6</td>\n",
              "      <td>2</td>\n",
              "      <td>7</td>\n",
              "      <td>0</td>\n",
              "      <td>0.184829</td>\n",
              "    </tr>\n",
              "    <tr>\n",
              "      <th>3</th>\n",
              "      <td>6</td>\n",
              "      <td>3</td>\n",
              "      <td>6</td>\n",
              "      <td>0</td>\n",
              "      <td>0.210290</td>\n",
              "    </tr>\n",
              "    <tr>\n",
              "      <th>4</th>\n",
              "      <td>6</td>\n",
              "      <td>4</td>\n",
              "      <td>5</td>\n",
              "      <td>0</td>\n",
              "      <td>0.231577</td>\n",
              "    </tr>\n",
              "    <tr>\n",
              "      <th>5</th>\n",
              "      <td>5</td>\n",
              "      <td>4</td>\n",
              "      <td>5</td>\n",
              "      <td>1</td>\n",
              "      <td>0.245193</td>\n",
              "    </tr>\n",
              "    <tr>\n",
              "      <th>6</th>\n",
              "      <td>5</td>\n",
              "      <td>5</td>\n",
              "      <td>4</td>\n",
              "      <td>1</td>\n",
              "      <td>0.253159</td>\n",
              "    </tr>\n",
              "    <tr>\n",
              "      <th>7</th>\n",
              "      <td>5</td>\n",
              "      <td>6</td>\n",
              "      <td>3</td>\n",
              "      <td>1</td>\n",
              "      <td>0.272632</td>\n",
              "    </tr>\n",
              "    <tr>\n",
              "      <th>8</th>\n",
              "      <td>5</td>\n",
              "      <td>7</td>\n",
              "      <td>2</td>\n",
              "      <td>1</td>\n",
              "      <td>0.323831</td>\n",
              "    </tr>\n",
              "    <tr>\n",
              "      <th>9</th>\n",
              "      <td>5</td>\n",
              "      <td>8</td>\n",
              "      <td>1</td>\n",
              "      <td>1</td>\n",
              "      <td>0.431663</td>\n",
              "    </tr>\n",
              "    <tr>\n",
              "      <th>10</th>\n",
              "      <td>4</td>\n",
              "      <td>8</td>\n",
              "      <td>1</td>\n",
              "      <td>2</td>\n",
              "      <td>0.502817</td>\n",
              "    </tr>\n",
              "    <tr>\n",
              "      <th>11</th>\n",
              "      <td>3</td>\n",
              "      <td>8</td>\n",
              "      <td>1</td>\n",
              "      <td>3</td>\n",
              "      <td>0.531244</td>\n",
              "    </tr>\n",
              "    <tr>\n",
              "      <th>12</th>\n",
              "      <td>2</td>\n",
              "      <td>8</td>\n",
              "      <td>1</td>\n",
              "      <td>4</td>\n",
              "      <td>0.569842</td>\n",
              "    </tr>\n",
              "    <tr>\n",
              "      <th>13</th>\n",
              "      <td>2</td>\n",
              "      <td>9</td>\n",
              "      <td>0</td>\n",
              "      <td>4</td>\n",
              "      <td>0.648459</td>\n",
              "    </tr>\n",
              "    <tr>\n",
              "      <th>14</th>\n",
              "      <td>1</td>\n",
              "      <td>9</td>\n",
              "      <td>0</td>\n",
              "      <td>5</td>\n",
              "      <td>0.700653</td>\n",
              "    </tr>\n",
              "    <tr>\n",
              "      <th>15</th>\n",
              "      <td>0</td>\n",
              "      <td>9</td>\n",
              "      <td>0</td>\n",
              "      <td>6</td>\n",
              "      <td>0.722093</td>\n",
              "    </tr>\n",
              "  </tbody>\n",
              "</table>\n",
              "</div>"
            ],
            "text/plain": [
              "    tp  tn  fp  fn       thr\n",
              "0    6   0   9   0  0.000000\n",
              "1    6   1   8   0  0.171740\n",
              "2    6   2   7   0  0.184829\n",
              "3    6   3   6   0  0.210290\n",
              "4    6   4   5   0  0.231577\n",
              "5    5   4   5   1  0.245193\n",
              "6    5   5   4   1  0.253159\n",
              "7    5   6   3   1  0.272632\n",
              "8    5   7   2   1  0.323831\n",
              "9    5   8   1   1  0.431663\n",
              "10   4   8   1   2  0.502817\n",
              "11   3   8   1   3  0.531244\n",
              "12   2   8   1   4  0.569842\n",
              "13   2   9   0   4  0.648459\n",
              "14   1   9   0   5  0.700653\n",
              "15   0   9   0   6  0.722093"
            ]
          },
          "metadata": {
            "tags": []
          },
          "execution_count": 89
        }
      ]
    },
    {
      "cell_type": "code",
      "metadata": {
        "id": "bHmf5JGxRFbL"
      },
      "source": [
        "cm['tpr'] = cm['tp'] / (cm['tp'] + cm['fn'])"
      ],
      "execution_count": null,
      "outputs": []
    },
    {
      "cell_type": "code",
      "metadata": {
        "id": "GAR8j5p8RW6u"
      },
      "source": [
        "cm['fpr'] = cm['fp'] / (cm['fp'] + cm['tn'])"
      ],
      "execution_count": null,
      "outputs": []
    },
    {
      "cell_type": "code",
      "metadata": {
        "id": "JBAlEQ3lRXXd",
        "outputId": "0999c74a-72b9-4823-94b3-d838a8f2d005",
        "colab": {
          "base_uri": "https://localhost:8080/",
          "height": 405
        }
      },
      "source": [
        "cm.plot(x='fpr',y='tpr',grid=True,figsize=(6,6),xlim=(0,1.1),ylim=(0,1.1))"
      ],
      "execution_count": null,
      "outputs": [
        {
          "output_type": "execute_result",
          "data": {
            "text/plain": [
              "<matplotlib.axes._subplots.AxesSubplot at 0x7fd25eda2278>"
            ]
          },
          "metadata": {
            "tags": []
          },
          "execution_count": 92
        },
        {
          "output_type": "display_data",
          "data": {
            "image/png": "[encoded data removed]",
            "text/plain": [
              "<Figure size 432x432 with 1 Axes>"
            ]
          },
          "metadata": {
            "tags": [],
            "needs_background": "light"
          }
        }
      ]
    },
    {
      "cell_type": "code",
      "metadata": {
        "id": "ami4qRqSRj0j"
      },
      "source": [
        "from sklearn.metrics import roc_curve"
      ],
      "execution_count": null,
      "outputs": []
    },
    {
      "cell_type": "code",
      "metadata": {
        "id": "kek8qHcLSedy"
      },
      "source": [
        "fpr, tpr, thr = roc_curve(df['y_true'],df['y_score'])"
      ],
      "execution_count": null,
      "outputs": []
    },
    {
      "cell_type": "code",
      "metadata": {
        "id": "bULW6pGZSpTJ"
      },
      "source": [
        "t = pd.DataFrame({'fpr':fpr, 'tpr':tpr,'thr':thr})"
      ],
      "execution_count": null,
      "outputs": []
    },
    {
      "cell_type": "code",
      "metadata": {
        "id": "nlwmqp3vSsjx",
        "outputId": "11350db7-9aa4-4d8a-c2d8-598acf2b3775",
        "colab": {
          "base_uri": "https://localhost:8080/",
          "height": 297
        }
      },
      "source": [
        "t"
      ],
      "execution_count": null,
      "outputs": [
        {
          "output_type": "execute_result",
          "data": {
            "text/html": [
              "<div>\n",
              "<style scoped>\n",
              "    .dataframe tbody tr th:only-of-type {\n",
              "        vertical-align: middle;\n",
              "    }\n",
              "\n",
              "    .dataframe tbody tr th {\n",
              "        vertical-align: top;\n",
              "    }\n",
              "\n",
              "    .dataframe thead th {\n",
              "        text-align: right;\n",
              "    }\n",
              "</style>\n",
              "<table border=\"1\" class=\"dataframe\">\n",
              "  <thead>\n",
              "    <tr style=\"text-align: right;\">\n",
              "      <th></th>\n",
              "      <th>fpr</th>\n",
              "      <th>tpr</th>\n",
              "      <th>thr</th>\n",
              "    </tr>\n",
              "  </thead>\n",
              "  <tbody>\n",
              "    <tr>\n",
              "      <th>0</th>\n",
              "      <td>0.000000</td>\n",
              "      <td>0.000000</td>\n",
              "      <td>1.722093</td>\n",
              "    </tr>\n",
              "    <tr>\n",
              "      <th>1</th>\n",
              "      <td>0.000000</td>\n",
              "      <td>0.166667</td>\n",
              "      <td>0.722093</td>\n",
              "    </tr>\n",
              "    <tr>\n",
              "      <th>2</th>\n",
              "      <td>0.000000</td>\n",
              "      <td>0.333333</td>\n",
              "      <td>0.700653</td>\n",
              "    </tr>\n",
              "    <tr>\n",
              "      <th>3</th>\n",
              "      <td>0.111111</td>\n",
              "      <td>0.333333</td>\n",
              "      <td>0.648459</td>\n",
              "    </tr>\n",
              "    <tr>\n",
              "      <th>4</th>\n",
              "      <td>0.111111</td>\n",
              "      <td>0.833333</td>\n",
              "      <td>0.502817</td>\n",
              "    </tr>\n",
              "    <tr>\n",
              "      <th>5</th>\n",
              "      <td>0.555556</td>\n",
              "      <td>0.833333</td>\n",
              "      <td>0.253159</td>\n",
              "    </tr>\n",
              "    <tr>\n",
              "      <th>6</th>\n",
              "      <td>0.555556</td>\n",
              "      <td>1.000000</td>\n",
              "      <td>0.245193</td>\n",
              "    </tr>\n",
              "    <tr>\n",
              "      <th>7</th>\n",
              "      <td>1.000000</td>\n",
              "      <td>1.000000</td>\n",
              "      <td>0.171740</td>\n",
              "    </tr>\n",
              "  </tbody>\n",
              "</table>\n",
              "</div>"
            ],
            "text/plain": [
              "        fpr       tpr       thr\n",
              "0  0.000000  0.000000  1.722093\n",
              "1  0.000000  0.166667  0.722093\n",
              "2  0.000000  0.333333  0.700653\n",
              "3  0.111111  0.333333  0.648459\n",
              "4  0.111111  0.833333  0.502817\n",
              "5  0.555556  0.833333  0.253159\n",
              "6  0.555556  1.000000  0.245193\n",
              "7  1.000000  1.000000  0.171740"
            ]
          },
          "metadata": {
            "tags": []
          },
          "execution_count": 98
        }
      ]
    },
    {
      "cell_type": "code",
      "metadata": {
        "id": "XWlmQT4HTofs",
        "outputId": "2c2d9b1a-018c-47a1-c2e1-de8ffc7f9c7f",
        "colab": {
          "base_uri": "https://localhost:8080/",
          "height": 545
        }
      },
      "source": [
        "cm"
      ],
      "execution_count": null,
      "outputs": [
        {
          "output_type": "execute_result",
          "data": {
            "text/html": [
              "<div>\n",
              "<style scoped>\n",
              "    .dataframe tbody tr th:only-of-type {\n",
              "        vertical-align: middle;\n",
              "    }\n",
              "\n",
              "    .dataframe tbody tr th {\n",
              "        vertical-align: top;\n",
              "    }\n",
              "\n",
              "    .dataframe thead th {\n",
              "        text-align: right;\n",
              "    }\n",
              "</style>\n",
              "<table border=\"1\" class=\"dataframe\">\n",
              "  <thead>\n",
              "    <tr style=\"text-align: right;\">\n",
              "      <th></th>\n",
              "      <th>tp</th>\n",
              "      <th>tn</th>\n",
              "      <th>fp</th>\n",
              "      <th>fn</th>\n",
              "      <th>thr</th>\n",
              "      <th>tpr</th>\n",
              "      <th>fpr</th>\n",
              "    </tr>\n",
              "  </thead>\n",
              "  <tbody>\n",
              "    <tr>\n",
              "      <th>0</th>\n",
              "      <td>6</td>\n",
              "      <td>0</td>\n",
              "      <td>9</td>\n",
              "      <td>0</td>\n",
              "      <td>0.000000</td>\n",
              "      <td>1.000000</td>\n",
              "      <td>1.000000</td>\n",
              "    </tr>\n",
              "    <tr>\n",
              "      <th>1</th>\n",
              "      <td>6</td>\n",
              "      <td>1</td>\n",
              "      <td>8</td>\n",
              "      <td>0</td>\n",
              "      <td>0.171740</td>\n",
              "      <td>1.000000</td>\n",
              "      <td>0.888889</td>\n",
              "    </tr>\n",
              "    <tr>\n",
              "      <th>2</th>\n",
              "      <td>6</td>\n",
              "      <td>2</td>\n",
              "      <td>7</td>\n",
              "      <td>0</td>\n",
              "      <td>0.184829</td>\n",
              "      <td>1.000000</td>\n",
              "      <td>0.777778</td>\n",
              "    </tr>\n",
              "    <tr>\n",
              "      <th>3</th>\n",
              "      <td>6</td>\n",
              "      <td>3</td>\n",
              "      <td>6</td>\n",
              "      <td>0</td>\n",
              "      <td>0.210290</td>\n",
              "      <td>1.000000</td>\n",
              "      <td>0.666667</td>\n",
              "    </tr>\n",
              "    <tr>\n",
              "      <th>4</th>\n",
              "      <td>6</td>\n",
              "      <td>4</td>\n",
              "      <td>5</td>\n",
              "      <td>0</td>\n",
              "      <td>0.231577</td>\n",
              "      <td>1.000000</td>\n",
              "      <td>0.555556</td>\n",
              "    </tr>\n",
              "    <tr>\n",
              "      <th>5</th>\n",
              "      <td>5</td>\n",
              "      <td>4</td>\n",
              "      <td>5</td>\n",
              "      <td>1</td>\n",
              "      <td>0.245193</td>\n",
              "      <td>0.833333</td>\n",
              "      <td>0.555556</td>\n",
              "    </tr>\n",
              "    <tr>\n",
              "      <th>6</th>\n",
              "      <td>5</td>\n",
              "      <td>5</td>\n",
              "      <td>4</td>\n",
              "      <td>1</td>\n",
              "      <td>0.253159</td>\n",
              "      <td>0.833333</td>\n",
              "      <td>0.444444</td>\n",
              "    </tr>\n",
              "    <tr>\n",
              "      <th>7</th>\n",
              "      <td>5</td>\n",
              "      <td>6</td>\n",
              "      <td>3</td>\n",
              "      <td>1</td>\n",
              "      <td>0.272632</td>\n",
              "      <td>0.833333</td>\n",
              "      <td>0.333333</td>\n",
              "    </tr>\n",
              "    <tr>\n",
              "      <th>8</th>\n",
              "      <td>5</td>\n",
              "      <td>7</td>\n",
              "      <td>2</td>\n",
              "      <td>1</td>\n",
              "      <td>0.323831</td>\n",
              "      <td>0.833333</td>\n",
              "      <td>0.222222</td>\n",
              "    </tr>\n",
              "    <tr>\n",
              "      <th>9</th>\n",
              "      <td>5</td>\n",
              "      <td>8</td>\n",
              "      <td>1</td>\n",
              "      <td>1</td>\n",
              "      <td>0.431663</td>\n",
              "      <td>0.833333</td>\n",
              "      <td>0.111111</td>\n",
              "    </tr>\n",
              "    <tr>\n",
              "      <th>10</th>\n",
              "      <td>4</td>\n",
              "      <td>8</td>\n",
              "      <td>1</td>\n",
              "      <td>2</td>\n",
              "      <td>0.502817</td>\n",
              "      <td>0.666667</td>\n",
              "      <td>0.111111</td>\n",
              "    </tr>\n",
              "    <tr>\n",
              "      <th>11</th>\n",
              "      <td>3</td>\n",
              "      <td>8</td>\n",
              "      <td>1</td>\n",
              "      <td>3</td>\n",
              "      <td>0.531244</td>\n",
              "      <td>0.500000</td>\n",
              "      <td>0.111111</td>\n",
              "    </tr>\n",
              "    <tr>\n",
              "      <th>12</th>\n",
              "      <td>2</td>\n",
              "      <td>8</td>\n",
              "      <td>1</td>\n",
              "      <td>4</td>\n",
              "      <td>0.569842</td>\n",
              "      <td>0.333333</td>\n",
              "      <td>0.111111</td>\n",
              "    </tr>\n",
              "    <tr>\n",
              "      <th>13</th>\n",
              "      <td>2</td>\n",
              "      <td>9</td>\n",
              "      <td>0</td>\n",
              "      <td>4</td>\n",
              "      <td>0.648459</td>\n",
              "      <td>0.333333</td>\n",
              "      <td>0.000000</td>\n",
              "    </tr>\n",
              "    <tr>\n",
              "      <th>14</th>\n",
              "      <td>1</td>\n",
              "      <td>9</td>\n",
              "      <td>0</td>\n",
              "      <td>5</td>\n",
              "      <td>0.700653</td>\n",
              "      <td>0.166667</td>\n",
              "      <td>0.000000</td>\n",
              "    </tr>\n",
              "    <tr>\n",
              "      <th>15</th>\n",
              "      <td>0</td>\n",
              "      <td>9</td>\n",
              "      <td>0</td>\n",
              "      <td>6</td>\n",
              "      <td>0.722093</td>\n",
              "      <td>0.000000</td>\n",
              "      <td>0.000000</td>\n",
              "    </tr>\n",
              "  </tbody>\n",
              "</table>\n",
              "</div>"
            ],
            "text/plain": [
              "    tp  tn  fp  fn       thr       tpr       fpr\n",
              "0    6   0   9   0  0.000000  1.000000  1.000000\n",
              "1    6   1   8   0  0.171740  1.000000  0.888889\n",
              "2    6   2   7   0  0.184829  1.000000  0.777778\n",
              "3    6   3   6   0  0.210290  1.000000  0.666667\n",
              "4    6   4   5   0  0.231577  1.000000  0.555556\n",
              "5    5   4   5   1  0.245193  0.833333  0.555556\n",
              "6    5   5   4   1  0.253159  0.833333  0.444444\n",
              "7    5   6   3   1  0.272632  0.833333  0.333333\n",
              "8    5   7   2   1  0.323831  0.833333  0.222222\n",
              "9    5   8   1   1  0.431663  0.833333  0.111111\n",
              "10   4   8   1   2  0.502817  0.666667  0.111111\n",
              "11   3   8   1   3  0.531244  0.500000  0.111111\n",
              "12   2   8   1   4  0.569842  0.333333  0.111111\n",
              "13   2   9   0   4  0.648459  0.333333  0.000000\n",
              "14   1   9   0   5  0.700653  0.166667  0.000000\n",
              "15   0   9   0   6  0.722093  0.000000  0.000000"
            ]
          },
          "metadata": {
            "tags": []
          },
          "execution_count": 107
        }
      ]
    },
    {
      "cell_type": "code",
      "metadata": {
        "id": "y-XVzyJkTGJW",
        "outputId": "a604f478-7891-4f8e-d044-7b570a4ba862",
        "colab": {
          "base_uri": "https://localhost:8080/",
          "height": 405
        }
      },
      "source": [
        "cm.plot(x='fpr',y='tpr',grid=True,figsize=(6,6),xlim=(0,1.1),ylim=(0,1.1))"
      ],
      "execution_count": null,
      "outputs": [
        {
          "output_type": "execute_result",
          "data": {
            "text/plain": [
              "<matplotlib.axes._subplots.AxesSubplot at 0x7fd25ec024e0>"
            ]
          },
          "metadata": {
            "tags": []
          },
          "execution_count": 101
        },
        {
          "output_type": "display_data",
          "data": {
            "image/png": "[encoded data removed]",
            "text/plain": [
              "<Figure size 432x432 with 1 Axes>"
            ]
          },
          "metadata": {
            "tags": [],
            "needs_background": "light"
          }
        }
      ]
    },
    {
      "cell_type": "code",
      "metadata": {
        "id": "4BSvZRPWS5r1",
        "outputId": "bae1409f-d2bb-45d3-b394-cab3d6a90b74",
        "colab": {
          "base_uri": "https://localhost:8080/",
          "height": 405
        }
      },
      "source": [
        "t.plot(x='fpr',y='tpr',grid=True,figsize=(6,6),xlim=(0,1.1),ylim=(0,1.1))"
      ],
      "execution_count": null,
      "outputs": [
        {
          "output_type": "execute_result",
          "data": {
            "text/plain": [
              "<matplotlib.axes._subplots.AxesSubplot at 0x7fd25ec98278>"
            ]
          },
          "metadata": {
            "tags": []
          },
          "execution_count": 100
        },
        {
          "output_type": "display_data",
          "data": {
            "image/png": "[encoded data removed]",
            "text/plain": [
              "<Figure size 432x432 with 1 Axes>"
            ]
          },
          "metadata": {
            "tags": [],
            "needs_background": "light"
          }
        }
      ]
    },
    {
      "cell_type": "code",
      "metadata": {
        "id": "SMnRn5dgS_Li",
        "outputId": "ad707944-8fde-4822-d3d7-f716c29ced06",
        "colab": {
          "base_uri": "https://localhost:8080/",
          "height": 297
        }
      },
      "source": [
        "t"
      ],
      "execution_count": null,
      "outputs": [
        {
          "output_type": "execute_result",
          "data": {
            "text/html": [
              "<div>\n",
              "<style scoped>\n",
              "    .dataframe tbody tr th:only-of-type {\n",
              "        vertical-align: middle;\n",
              "    }\n",
              "\n",
              "    .dataframe tbody tr th {\n",
              "        vertical-align: top;\n",
              "    }\n",
              "\n",
              "    .dataframe thead th {\n",
              "        text-align: right;\n",
              "    }\n",
              "</style>\n",
              "<table border=\"1\" class=\"dataframe\">\n",
              "  <thead>\n",
              "    <tr style=\"text-align: right;\">\n",
              "      <th></th>\n",
              "      <th>fpr</th>\n",
              "      <th>tpr</th>\n",
              "      <th>thr</th>\n",
              "    </tr>\n",
              "  </thead>\n",
              "  <tbody>\n",
              "    <tr>\n",
              "      <th>0</th>\n",
              "      <td>0.000000</td>\n",
              "      <td>0.000000</td>\n",
              "      <td>1.722093</td>\n",
              "    </tr>\n",
              "    <tr>\n",
              "      <th>1</th>\n",
              "      <td>0.000000</td>\n",
              "      <td>0.166667</td>\n",
              "      <td>0.722093</td>\n",
              "    </tr>\n",
              "    <tr>\n",
              "      <th>2</th>\n",
              "      <td>0.000000</td>\n",
              "      <td>0.333333</td>\n",
              "      <td>0.700653</td>\n",
              "    </tr>\n",
              "    <tr>\n",
              "      <th>3</th>\n",
              "      <td>0.111111</td>\n",
              "      <td>0.333333</td>\n",
              "      <td>0.648459</td>\n",
              "    </tr>\n",
              "    <tr>\n",
              "      <th>4</th>\n",
              "      <td>0.111111</td>\n",
              "      <td>0.833333</td>\n",
              "      <td>0.502817</td>\n",
              "    </tr>\n",
              "    <tr>\n",
              "      <th>5</th>\n",
              "      <td>0.555556</td>\n",
              "      <td>0.833333</td>\n",
              "      <td>0.253159</td>\n",
              "    </tr>\n",
              "    <tr>\n",
              "      <th>6</th>\n",
              "      <td>0.555556</td>\n",
              "      <td>1.000000</td>\n",
              "      <td>0.245193</td>\n",
              "    </tr>\n",
              "    <tr>\n",
              "      <th>7</th>\n",
              "      <td>1.000000</td>\n",
              "      <td>1.000000</td>\n",
              "      <td>0.171740</td>\n",
              "    </tr>\n",
              "  </tbody>\n",
              "</table>\n",
              "</div>"
            ],
            "text/plain": [
              "        fpr       tpr       thr\n",
              "0  0.000000  0.000000  1.722093\n",
              "1  0.000000  0.166667  0.722093\n",
              "2  0.000000  0.333333  0.700653\n",
              "3  0.111111  0.333333  0.648459\n",
              "4  0.111111  0.833333  0.502817\n",
              "5  0.555556  0.833333  0.253159\n",
              "6  0.555556  1.000000  0.245193\n",
              "7  1.000000  1.000000  0.171740"
            ]
          },
          "metadata": {
            "tags": []
          },
          "execution_count": 102
        }
      ]
    },
    {
      "cell_type": "code",
      "metadata": {
        "id": "lTIexpwITSXl",
        "outputId": "51506d5b-c1cf-496e-c7d8-9c2d4d919f23",
        "colab": {
          "base_uri": "https://localhost:8080/",
          "height": 545
        }
      },
      "source": [
        "cm[['tpr','fpr']].drop_duplicates()"
      ],
      "execution_count": null,
      "outputs": [
        {
          "output_type": "execute_result",
          "data": {
            "text/html": [
              "<div>\n",
              "<style scoped>\n",
              "    .dataframe tbody tr th:only-of-type {\n",
              "        vertical-align: middle;\n",
              "    }\n",
              "\n",
              "    .dataframe tbody tr th {\n",
              "        vertical-align: top;\n",
              "    }\n",
              "\n",
              "    .dataframe thead th {\n",
              "        text-align: right;\n",
              "    }\n",
              "</style>\n",
              "<table border=\"1\" class=\"dataframe\">\n",
              "  <thead>\n",
              "    <tr style=\"text-align: right;\">\n",
              "      <th></th>\n",
              "      <th>tpr</th>\n",
              "      <th>fpr</th>\n",
              "    </tr>\n",
              "  </thead>\n",
              "  <tbody>\n",
              "    <tr>\n",
              "      <th>0</th>\n",
              "      <td>1.000000</td>\n",
              "      <td>1.000000</td>\n",
              "    </tr>\n",
              "    <tr>\n",
              "      <th>1</th>\n",
              "      <td>1.000000</td>\n",
              "      <td>0.888889</td>\n",
              "    </tr>\n",
              "    <tr>\n",
              "      <th>2</th>\n",
              "      <td>1.000000</td>\n",
              "      <td>0.777778</td>\n",
              "    </tr>\n",
              "    <tr>\n",
              "      <th>3</th>\n",
              "      <td>1.000000</td>\n",
              "      <td>0.666667</td>\n",
              "    </tr>\n",
              "    <tr>\n",
              "      <th>4</th>\n",
              "      <td>1.000000</td>\n",
              "      <td>0.555556</td>\n",
              "    </tr>\n",
              "    <tr>\n",
              "      <th>5</th>\n",
              "      <td>0.833333</td>\n",
              "      <td>0.555556</td>\n",
              "    </tr>\n",
              "    <tr>\n",
              "      <th>6</th>\n",
              "      <td>0.833333</td>\n",
              "      <td>0.444444</td>\n",
              "    </tr>\n",
              "    <tr>\n",
              "      <th>7</th>\n",
              "      <td>0.833333</td>\n",
              "      <td>0.333333</td>\n",
              "    </tr>\n",
              "    <tr>\n",
              "      <th>8</th>\n",
              "      <td>0.833333</td>\n",
              "      <td>0.222222</td>\n",
              "    </tr>\n",
              "    <tr>\n",
              "      <th>9</th>\n",
              "      <td>0.833333</td>\n",
              "      <td>0.111111</td>\n",
              "    </tr>\n",
              "    <tr>\n",
              "      <th>10</th>\n",
              "      <td>0.666667</td>\n",
              "      <td>0.111111</td>\n",
              "    </tr>\n",
              "    <tr>\n",
              "      <th>11</th>\n",
              "      <td>0.500000</td>\n",
              "      <td>0.111111</td>\n",
              "    </tr>\n",
              "    <tr>\n",
              "      <th>12</th>\n",
              "      <td>0.333333</td>\n",
              "      <td>0.111111</td>\n",
              "    </tr>\n",
              "    <tr>\n",
              "      <th>13</th>\n",
              "      <td>0.333333</td>\n",
              "      <td>0.000000</td>\n",
              "    </tr>\n",
              "    <tr>\n",
              "      <th>14</th>\n",
              "      <td>0.166667</td>\n",
              "      <td>0.000000</td>\n",
              "    </tr>\n",
              "    <tr>\n",
              "      <th>15</th>\n",
              "      <td>0.000000</td>\n",
              "      <td>0.000000</td>\n",
              "    </tr>\n",
              "  </tbody>\n",
              "</table>\n",
              "</div>"
            ],
            "text/plain": [
              "         tpr       fpr\n",
              "0   1.000000  1.000000\n",
              "1   1.000000  0.888889\n",
              "2   1.000000  0.777778\n",
              "3   1.000000  0.666667\n",
              "4   1.000000  0.555556\n",
              "5   0.833333  0.555556\n",
              "6   0.833333  0.444444\n",
              "7   0.833333  0.333333\n",
              "8   0.833333  0.222222\n",
              "9   0.833333  0.111111\n",
              "10  0.666667  0.111111\n",
              "11  0.500000  0.111111\n",
              "12  0.333333  0.111111\n",
              "13  0.333333  0.000000\n",
              "14  0.166667  0.000000\n",
              "15  0.000000  0.000000"
            ]
          },
          "metadata": {
            "tags": []
          },
          "execution_count": 106
        }
      ]
    },
    {
      "cell_type": "code",
      "metadata": {
        "id": "p3_ZDGqQTKC5",
        "outputId": "091e271b-5a15-4501-a7f5-daaff5463113",
        "colab": {
          "base_uri": "https://localhost:8080/",
          "height": 545
        }
      },
      "source": [
        "cm"
      ],
      "execution_count": null,
      "outputs": [
        {
          "output_type": "execute_result",
          "data": {
            "text/html": [
              "<div>\n",
              "<style scoped>\n",
              "    .dataframe tbody tr th:only-of-type {\n",
              "        vertical-align: middle;\n",
              "    }\n",
              "\n",
              "    .dataframe tbody tr th {\n",
              "        vertical-align: top;\n",
              "    }\n",
              "\n",
              "    .dataframe thead th {\n",
              "        text-align: right;\n",
              "    }\n",
              "</style>\n",
              "<table border=\"1\" class=\"dataframe\">\n",
              "  <thead>\n",
              "    <tr style=\"text-align: right;\">\n",
              "      <th></th>\n",
              "      <th>tp</th>\n",
              "      <th>tn</th>\n",
              "      <th>fp</th>\n",
              "      <th>fn</th>\n",
              "      <th>thr</th>\n",
              "      <th>tpr</th>\n",
              "      <th>fpr</th>\n",
              "    </tr>\n",
              "  </thead>\n",
              "  <tbody>\n",
              "    <tr>\n",
              "      <th>0</th>\n",
              "      <td>6</td>\n",
              "      <td>0</td>\n",
              "      <td>9</td>\n",
              "      <td>0</td>\n",
              "      <td>0.000000</td>\n",
              "      <td>1.000000</td>\n",
              "      <td>1.000000</td>\n",
              "    </tr>\n",
              "    <tr>\n",
              "      <th>1</th>\n",
              "      <td>6</td>\n",
              "      <td>1</td>\n",
              "      <td>8</td>\n",
              "      <td>0</td>\n",
              "      <td>0.171740</td>\n",
              "      <td>1.000000</td>\n",
              "      <td>0.888889</td>\n",
              "    </tr>\n",
              "    <tr>\n",
              "      <th>2</th>\n",
              "      <td>6</td>\n",
              "      <td>2</td>\n",
              "      <td>7</td>\n",
              "      <td>0</td>\n",
              "      <td>0.184829</td>\n",
              "      <td>1.000000</td>\n",
              "      <td>0.777778</td>\n",
              "    </tr>\n",
              "    <tr>\n",
              "      <th>3</th>\n",
              "      <td>6</td>\n",
              "      <td>3</td>\n",
              "      <td>6</td>\n",
              "      <td>0</td>\n",
              "      <td>0.210290</td>\n",
              "      <td>1.000000</td>\n",
              "      <td>0.666667</td>\n",
              "    </tr>\n",
              "    <tr>\n",
              "      <th>4</th>\n",
              "      <td>6</td>\n",
              "      <td>4</td>\n",
              "      <td>5</td>\n",
              "      <td>0</td>\n",
              "      <td>0.231577</td>\n",
              "      <td>1.000000</td>\n",
              "      <td>0.555556</td>\n",
              "    </tr>\n",
              "    <tr>\n",
              "      <th>5</th>\n",
              "      <td>5</td>\n",
              "      <td>4</td>\n",
              "      <td>5</td>\n",
              "      <td>1</td>\n",
              "      <td>0.245193</td>\n",
              "      <td>0.833333</td>\n",
              "      <td>0.555556</td>\n",
              "    </tr>\n",
              "    <tr>\n",
              "      <th>6</th>\n",
              "      <td>5</td>\n",
              "      <td>5</td>\n",
              "      <td>4</td>\n",
              "      <td>1</td>\n",
              "      <td>0.253159</td>\n",
              "      <td>0.833333</td>\n",
              "      <td>0.444444</td>\n",
              "    </tr>\n",
              "    <tr>\n",
              "      <th>7</th>\n",
              "      <td>5</td>\n",
              "      <td>6</td>\n",
              "      <td>3</td>\n",
              "      <td>1</td>\n",
              "      <td>0.272632</td>\n",
              "      <td>0.833333</td>\n",
              "      <td>0.333333</td>\n",
              "    </tr>\n",
              "    <tr>\n",
              "      <th>8</th>\n",
              "      <td>5</td>\n",
              "      <td>7</td>\n",
              "      <td>2</td>\n",
              "      <td>1</td>\n",
              "      <td>0.323831</td>\n",
              "      <td>0.833333</td>\n",
              "      <td>0.222222</td>\n",
              "    </tr>\n",
              "    <tr>\n",
              "      <th>9</th>\n",
              "      <td>5</td>\n",
              "      <td>8</td>\n",
              "      <td>1</td>\n",
              "      <td>1</td>\n",
              "      <td>0.431663</td>\n",
              "      <td>0.833333</td>\n",
              "      <td>0.111111</td>\n",
              "    </tr>\n",
              "    <tr>\n",
              "      <th>10</th>\n",
              "      <td>4</td>\n",
              "      <td>8</td>\n",
              "      <td>1</td>\n",
              "      <td>2</td>\n",
              "      <td>0.502817</td>\n",
              "      <td>0.666667</td>\n",
              "      <td>0.111111</td>\n",
              "    </tr>\n",
              "    <tr>\n",
              "      <th>11</th>\n",
              "      <td>3</td>\n",
              "      <td>8</td>\n",
              "      <td>1</td>\n",
              "      <td>3</td>\n",
              "      <td>0.531244</td>\n",
              "      <td>0.500000</td>\n",
              "      <td>0.111111</td>\n",
              "    </tr>\n",
              "    <tr>\n",
              "      <th>12</th>\n",
              "      <td>2</td>\n",
              "      <td>8</td>\n",
              "      <td>1</td>\n",
              "      <td>4</td>\n",
              "      <td>0.569842</td>\n",
              "      <td>0.333333</td>\n",
              "      <td>0.111111</td>\n",
              "    </tr>\n",
              "    <tr>\n",
              "      <th>13</th>\n",
              "      <td>2</td>\n",
              "      <td>9</td>\n",
              "      <td>0</td>\n",
              "      <td>4</td>\n",
              "      <td>0.648459</td>\n",
              "      <td>0.333333</td>\n",
              "      <td>0.000000</td>\n",
              "    </tr>\n",
              "    <tr>\n",
              "      <th>14</th>\n",
              "      <td>1</td>\n",
              "      <td>9</td>\n",
              "      <td>0</td>\n",
              "      <td>5</td>\n",
              "      <td>0.700653</td>\n",
              "      <td>0.166667</td>\n",
              "      <td>0.000000</td>\n",
              "    </tr>\n",
              "    <tr>\n",
              "      <th>15</th>\n",
              "      <td>0</td>\n",
              "      <td>9</td>\n",
              "      <td>0</td>\n",
              "      <td>6</td>\n",
              "      <td>0.722093</td>\n",
              "      <td>0.000000</td>\n",
              "      <td>0.000000</td>\n",
              "    </tr>\n",
              "  </tbody>\n",
              "</table>\n",
              "</div>"
            ],
            "text/plain": [
              "    tp  tn  fp  fn       thr       tpr       fpr\n",
              "0    6   0   9   0  0.000000  1.000000  1.000000\n",
              "1    6   1   8   0  0.171740  1.000000  0.888889\n",
              "2    6   2   7   0  0.184829  1.000000  0.777778\n",
              "3    6   3   6   0  0.210290  1.000000  0.666667\n",
              "4    6   4   5   0  0.231577  1.000000  0.555556\n",
              "5    5   4   5   1  0.245193  0.833333  0.555556\n",
              "6    5   5   4   1  0.253159  0.833333  0.444444\n",
              "7    5   6   3   1  0.272632  0.833333  0.333333\n",
              "8    5   7   2   1  0.323831  0.833333  0.222222\n",
              "9    5   8   1   1  0.431663  0.833333  0.111111\n",
              "10   4   8   1   2  0.502817  0.666667  0.111111\n",
              "11   3   8   1   3  0.531244  0.500000  0.111111\n",
              "12   2   8   1   4  0.569842  0.333333  0.111111\n",
              "13   2   9   0   4  0.648459  0.333333  0.000000\n",
              "14   1   9   0   5  0.700653  0.166667  0.000000\n",
              "15   0   9   0   6  0.722093  0.000000  0.000000"
            ]
          },
          "metadata": {
            "tags": []
          },
          "execution_count": 103
        }
      ]
    },
    {
      "cell_type": "code",
      "metadata": {
        "id": "IbNjZG-zTLVL",
        "outputId": "dfd91d70-b565-4243-b37d-34d14fb91cc7",
        "colab": {
          "base_uri": "https://localhost:8080/",
          "height": 405
        }
      },
      "source": [
        "cm.plot(x='fpr',y='tpr',grid=True,figsize=(6,6),xlim=(0,1.1),ylim=(0,1.1),kind='scatter')"
      ],
      "execution_count": null,
      "outputs": [
        {
          "output_type": "execute_result",
          "data": {
            "text/plain": [
              "<matplotlib.axes._subplots.AxesSubplot at 0x7fd25eb6f358>"
            ]
          },
          "metadata": {
            "tags": []
          },
          "execution_count": 108
        },
        {
          "output_type": "display_data",
          "data": {
            "image/png": "[encoded data removed]",
            "text/plain": [
              "<Figure size 432x432 with 1 Axes>"
            ]
          },
          "metadata": {
            "tags": [],
            "needs_background": "light"
          }
        }
      ]
    },
    {
      "cell_type": "code",
      "metadata": {
        "id": "Fr1Z7vU6UNS4",
        "outputId": "d8197c03-6466-408c-c05a-1ffe9d18fd89",
        "colab": {
          "base_uri": "https://localhost:8080/",
          "height": 405
        }
      },
      "source": [
        "t.plot(x='fpr',y='tpr',grid=True,figsize=(6,6),xlim=(0,1.1),ylim=(0,1.1),kind='scatter')"
      ],
      "execution_count": null,
      "outputs": [
        {
          "output_type": "execute_result",
          "data": {
            "text/plain": [
              "<matplotlib.axes._subplots.AxesSubplot at 0x7fd25eaefba8>"
            ]
          },
          "metadata": {
            "tags": []
          },
          "execution_count": 109
        },
        {
          "output_type": "display_data",
          "data": {
            "image/png": "[encoded data removed]",
            "text/plain": [
              "<Figure size 432x432 with 1 Axes>"
            ]
          },
          "metadata": {
            "tags": [],
            "needs_background": "light"
          }
        }
      ]
    },
    {
      "cell_type": "code",
      "metadata": {
        "id": "gcGvwEvkUtVY"
      },
      "source": [
        "from matplotlib import pyplot as plt"
      ],
      "execution_count": null,
      "outputs": []
    },
    {
      "cell_type": "code",
      "metadata": {
        "id": "jnfPxBJ0U0ZK",
        "outputId": "3549960d-929e-438d-f789-a71252d2513b",
        "colab": {
          "base_uri": "https://localhost:8080/",
          "height": 405
        }
      },
      "source": [
        "cm.plot(x='fpr',y='tpr',grid=True,figsize=(6,6),xlim=(0,1.1),ylim=(0,1.1),kind='scatter')"
      ],
      "execution_count": null,
      "outputs": [
        {
          "output_type": "execute_result",
          "data": {
            "text/plain": [
              "<matplotlib.axes._subplots.AxesSubplot at 0x7fd25f409f98>"
            ]
          },
          "metadata": {
            "tags": []
          },
          "execution_count": 113
        },
        {
          "output_type": "display_data",
          "data": {
            "image/png": "[encoded data removed]",
            "text/plain": [
              "<Figure size 432x432 with 1 Axes>"
            ]
          },
          "metadata": {
            "tags": [],
            "needs_background": "light"
          }
        }
      ]
    },
    {
      "cell_type": "code",
      "metadata": {
        "id": "z868ec7WUSUc",
        "outputId": "843c0261-0a56-4338-d97f-1e180a6b4a82",
        "colab": {
          "base_uri": "https://localhost:8080/",
          "height": 265
        }
      },
      "source": [
        "fig, ax = plt.subplots()\n",
        "ax.scatter(cm['fpr'], cm['tpr'])\n",
        "\n",
        "for i, txt in enumerate(cm['thr']):\n",
        "    ax.annotate(round(txt,2), (cm['fpr'][i], cm['tpr'][i]))"
      ],
      "execution_count": null,
      "outputs": [
        {
          "output_type": "display_data",
          "data": {
            "image/png": "[encoded data removed]",
            "text/plain": [
              "<Figure size 432x288 with 1 Axes>"
            ]
          },
          "metadata": {
            "tags": [],
            "needs_background": "light"
          }
        }
      ]
    },
    {
      "cell_type": "code",
      "metadata": {
        "id": "t94CtZ_lUsCC"
      },
      "source": [
        "# Подбор лучшего порога\n",
        "cm['tpr - fpr'] = cm['tpr'] - cm['fpr']"
      ],
      "execution_count": null,
      "outputs": []
    },
    {
      "cell_type": "code",
      "metadata": {
        "id": "O6dniwC2WiDb",
        "outputId": "4f247c8e-8d83-4c04-e0a4-0f1f7d7de47b",
        "colab": {
          "base_uri": "https://localhost:8080/",
          "height": 545
        }
      },
      "source": [
        "cm.sort_values('tpr - fpr',ascending=False)"
      ],
      "execution_count": null,
      "outputs": [
        {
          "output_type": "execute_result",
          "data": {
            "text/html": [
              "<div>\n",
              "<style scoped>\n",
              "    .dataframe tbody tr th:only-of-type {\n",
              "        vertical-align: middle;\n",
              "    }\n",
              "\n",
              "    .dataframe tbody tr th {\n",
              "        vertical-align: top;\n",
              "    }\n",
              "\n",
              "    .dataframe thead th {\n",
              "        text-align: right;\n",
              "    }\n",
              "</style>\n",
              "<table border=\"1\" class=\"dataframe\">\n",
              "  <thead>\n",
              "    <tr style=\"text-align: right;\">\n",
              "      <th></th>\n",
              "      <th>tp</th>\n",
              "      <th>tn</th>\n",
              "      <th>fp</th>\n",
              "      <th>fn</th>\n",
              "      <th>thr</th>\n",
              "      <th>tpr</th>\n",
              "      <th>fpr</th>\n",
              "      <th>tpr - fpr</th>\n",
              "    </tr>\n",
              "  </thead>\n",
              "  <tbody>\n",
              "    <tr>\n",
              "      <th>9</th>\n",
              "      <td>5</td>\n",
              "      <td>8</td>\n",
              "      <td>1</td>\n",
              "      <td>1</td>\n",
              "      <td>0.431663</td>\n",
              "      <td>0.833333</td>\n",
              "      <td>0.111111</td>\n",
              "      <td>0.722222</td>\n",
              "    </tr>\n",
              "    <tr>\n",
              "      <th>8</th>\n",
              "      <td>5</td>\n",
              "      <td>7</td>\n",
              "      <td>2</td>\n",
              "      <td>1</td>\n",
              "      <td>0.323831</td>\n",
              "      <td>0.833333</td>\n",
              "      <td>0.222222</td>\n",
              "      <td>0.611111</td>\n",
              "    </tr>\n",
              "    <tr>\n",
              "      <th>10</th>\n",
              "      <td>4</td>\n",
              "      <td>8</td>\n",
              "      <td>1</td>\n",
              "      <td>2</td>\n",
              "      <td>0.502817</td>\n",
              "      <td>0.666667</td>\n",
              "      <td>0.111111</td>\n",
              "      <td>0.555556</td>\n",
              "    </tr>\n",
              "    <tr>\n",
              "      <th>7</th>\n",
              "      <td>5</td>\n",
              "      <td>6</td>\n",
              "      <td>3</td>\n",
              "      <td>1</td>\n",
              "      <td>0.272632</td>\n",
              "      <td>0.833333</td>\n",
              "      <td>0.333333</td>\n",
              "      <td>0.500000</td>\n",
              "    </tr>\n",
              "    <tr>\n",
              "      <th>4</th>\n",
              "      <td>6</td>\n",
              "      <td>4</td>\n",
              "      <td>5</td>\n",
              "      <td>0</td>\n",
              "      <td>0.231577</td>\n",
              "      <td>1.000000</td>\n",
              "      <td>0.555556</td>\n",
              "      <td>0.444444</td>\n",
              "    </tr>\n",
              "    <tr>\n",
              "      <th>6</th>\n",
              "      <td>5</td>\n",
              "      <td>5</td>\n",
              "      <td>4</td>\n",
              "      <td>1</td>\n",
              "      <td>0.253159</td>\n",
              "      <td>0.833333</td>\n",
              "      <td>0.444444</td>\n",
              "      <td>0.388889</td>\n",
              "    </tr>\n",
              "    <tr>\n",
              "      <th>11</th>\n",
              "      <td>3</td>\n",
              "      <td>8</td>\n",
              "      <td>1</td>\n",
              "      <td>3</td>\n",
              "      <td>0.531244</td>\n",
              "      <td>0.500000</td>\n",
              "      <td>0.111111</td>\n",
              "      <td>0.388889</td>\n",
              "    </tr>\n",
              "    <tr>\n",
              "      <th>3</th>\n",
              "      <td>6</td>\n",
              "      <td>3</td>\n",
              "      <td>6</td>\n",
              "      <td>0</td>\n",
              "      <td>0.210290</td>\n",
              "      <td>1.000000</td>\n",
              "      <td>0.666667</td>\n",
              "      <td>0.333333</td>\n",
              "    </tr>\n",
              "    <tr>\n",
              "      <th>13</th>\n",
              "      <td>2</td>\n",
              "      <td>9</td>\n",
              "      <td>0</td>\n",
              "      <td>4</td>\n",
              "      <td>0.648459</td>\n",
              "      <td>0.333333</td>\n",
              "      <td>0.000000</td>\n",
              "      <td>0.333333</td>\n",
              "    </tr>\n",
              "    <tr>\n",
              "      <th>5</th>\n",
              "      <td>5</td>\n",
              "      <td>4</td>\n",
              "      <td>5</td>\n",
              "      <td>1</td>\n",
              "      <td>0.245193</td>\n",
              "      <td>0.833333</td>\n",
              "      <td>0.555556</td>\n",
              "      <td>0.277778</td>\n",
              "    </tr>\n",
              "    <tr>\n",
              "      <th>2</th>\n",
              "      <td>6</td>\n",
              "      <td>2</td>\n",
              "      <td>7</td>\n",
              "      <td>0</td>\n",
              "      <td>0.184829</td>\n",
              "      <td>1.000000</td>\n",
              "      <td>0.777778</td>\n",
              "      <td>0.222222</td>\n",
              "    </tr>\n",
              "    <tr>\n",
              "      <th>12</th>\n",
              "      <td>2</td>\n",
              "      <td>8</td>\n",
              "      <td>1</td>\n",
              "      <td>4</td>\n",
              "      <td>0.569842</td>\n",
              "      <td>0.333333</td>\n",
              "      <td>0.111111</td>\n",
              "      <td>0.222222</td>\n",
              "    </tr>\n",
              "    <tr>\n",
              "      <th>14</th>\n",
              "      <td>1</td>\n",
              "      <td>9</td>\n",
              "      <td>0</td>\n",
              "      <td>5</td>\n",
              "      <td>0.700653</td>\n",
              "      <td>0.166667</td>\n",
              "      <td>0.000000</td>\n",
              "      <td>0.166667</td>\n",
              "    </tr>\n",
              "    <tr>\n",
              "      <th>1</th>\n",
              "      <td>6</td>\n",
              "      <td>1</td>\n",
              "      <td>8</td>\n",
              "      <td>0</td>\n",
              "      <td>0.171740</td>\n",
              "      <td>1.000000</td>\n",
              "      <td>0.888889</td>\n",
              "      <td>0.111111</td>\n",
              "    </tr>\n",
              "    <tr>\n",
              "      <th>0</th>\n",
              "      <td>6</td>\n",
              "      <td>0</td>\n",
              "      <td>9</td>\n",
              "      <td>0</td>\n",
              "      <td>0.000000</td>\n",
              "      <td>1.000000</td>\n",
              "      <td>1.000000</td>\n",
              "      <td>0.000000</td>\n",
              "    </tr>\n",
              "    <tr>\n",
              "      <th>15</th>\n",
              "      <td>0</td>\n",
              "      <td>9</td>\n",
              "      <td>0</td>\n",
              "      <td>6</td>\n",
              "      <td>0.722093</td>\n",
              "      <td>0.000000</td>\n",
              "      <td>0.000000</td>\n",
              "      <td>0.000000</td>\n",
              "    </tr>\n",
              "  </tbody>\n",
              "</table>\n",
              "</div>"
            ],
            "text/plain": [
              "    tp  tn  fp  fn       thr       tpr       fpr  tpr - fpr\n",
              "9    5   8   1   1  0.431663  0.833333  0.111111   0.722222\n",
              "8    5   7   2   1  0.323831  0.833333  0.222222   0.611111\n",
              "10   4   8   1   2  0.502817  0.666667  0.111111   0.555556\n",
              "7    5   6   3   1  0.272632  0.833333  0.333333   0.500000\n",
              "4    6   4   5   0  0.231577  1.000000  0.555556   0.444444\n",
              "6    5   5   4   1  0.253159  0.833333  0.444444   0.388889\n",
              "11   3   8   1   3  0.531244  0.500000  0.111111   0.388889\n",
              "3    6   3   6   0  0.210290  1.000000  0.666667   0.333333\n",
              "13   2   9   0   4  0.648459  0.333333  0.000000   0.333333\n",
              "5    5   4   5   1  0.245193  0.833333  0.555556   0.277778\n",
              "2    6   2   7   0  0.184829  1.000000  0.777778   0.222222\n",
              "12   2   8   1   4  0.569842  0.333333  0.111111   0.222222\n",
              "14   1   9   0   5  0.700653  0.166667  0.000000   0.166667\n",
              "1    6   1   8   0  0.171740  1.000000  0.888889   0.111111\n",
              "0    6   0   9   0  0.000000  1.000000  1.000000   0.000000\n",
              "15   0   9   0   6  0.722093  0.000000  0.000000   0.000000"
            ]
          },
          "metadata": {
            "tags": []
          },
          "execution_count": 118
        }
      ]
    },
    {
      "cell_type": "code",
      "metadata": {
        "id": "3X4OIWVXXH5Q"
      },
      "source": [
        "# Подбор лучшего порога, когда стоимость fp очень высока (критична)\n",
        "cm['profit'] = cm['tp'] * 10 - cm['fp'] * 40"
      ],
      "execution_count": null,
      "outputs": []
    },
    {
      "cell_type": "code",
      "metadata": {
        "id": "yS1CsfAfXZdJ",
        "outputId": "0d8001ab-7e6c-4f7b-a600-0c7ac0803cfc",
        "colab": {
          "base_uri": "https://localhost:8080/",
          "height": 545
        }
      },
      "source": [
        "cm.sort_values('profit',ascending=False)"
      ],
      "execution_count": null,
      "outputs": [
        {
          "output_type": "execute_result",
          "data": {
            "text/html": [
              "<div>\n",
              "<style scoped>\n",
              "    .dataframe tbody tr th:only-of-type {\n",
              "        vertical-align: middle;\n",
              "    }\n",
              "\n",
              "    .dataframe tbody tr th {\n",
              "        vertical-align: top;\n",
              "    }\n",
              "\n",
              "    .dataframe thead th {\n",
              "        text-align: right;\n",
              "    }\n",
              "</style>\n",
              "<table border=\"1\" class=\"dataframe\">\n",
              "  <thead>\n",
              "    <tr style=\"text-align: right;\">\n",
              "      <th></th>\n",
              "      <th>tp</th>\n",
              "      <th>tn</th>\n",
              "      <th>fp</th>\n",
              "      <th>fn</th>\n",
              "      <th>thr</th>\n",
              "      <th>tpr</th>\n",
              "      <th>fpr</th>\n",
              "      <th>tpr - fpr</th>\n",
              "      <th>profit</th>\n",
              "    </tr>\n",
              "  </thead>\n",
              "  <tbody>\n",
              "    <tr>\n",
              "      <th>13</th>\n",
              "      <td>2</td>\n",
              "      <td>9</td>\n",
              "      <td>0</td>\n",
              "      <td>4</td>\n",
              "      <td>0.648459</td>\n",
              "      <td>0.333333</td>\n",
              "      <td>0.000000</td>\n",
              "      <td>0.333333</td>\n",
              "      <td>20</td>\n",
              "    </tr>\n",
              "    <tr>\n",
              "      <th>9</th>\n",
              "      <td>5</td>\n",
              "      <td>8</td>\n",
              "      <td>1</td>\n",
              "      <td>1</td>\n",
              "      <td>0.431663</td>\n",
              "      <td>0.833333</td>\n",
              "      <td>0.111111</td>\n",
              "      <td>0.722222</td>\n",
              "      <td>10</td>\n",
              "    </tr>\n",
              "    <tr>\n",
              "      <th>14</th>\n",
              "      <td>1</td>\n",
              "      <td>9</td>\n",
              "      <td>0</td>\n",
              "      <td>5</td>\n",
              "      <td>0.700653</td>\n",
              "      <td>0.166667</td>\n",
              "      <td>0.000000</td>\n",
              "      <td>0.166667</td>\n",
              "      <td>10</td>\n",
              "    </tr>\n",
              "    <tr>\n",
              "      <th>10</th>\n",
              "      <td>4</td>\n",
              "      <td>8</td>\n",
              "      <td>1</td>\n",
              "      <td>2</td>\n",
              "      <td>0.502817</td>\n",
              "      <td>0.666667</td>\n",
              "      <td>0.111111</td>\n",
              "      <td>0.555556</td>\n",
              "      <td>0</td>\n",
              "    </tr>\n",
              "    <tr>\n",
              "      <th>15</th>\n",
              "      <td>0</td>\n",
              "      <td>9</td>\n",
              "      <td>0</td>\n",
              "      <td>6</td>\n",
              "      <td>0.722093</td>\n",
              "      <td>0.000000</td>\n",
              "      <td>0.000000</td>\n",
              "      <td>0.000000</td>\n",
              "      <td>0</td>\n",
              "    </tr>\n",
              "    <tr>\n",
              "      <th>11</th>\n",
              "      <td>3</td>\n",
              "      <td>8</td>\n",
              "      <td>1</td>\n",
              "      <td>3</td>\n",
              "      <td>0.531244</td>\n",
              "      <td>0.500000</td>\n",
              "      <td>0.111111</td>\n",
              "      <td>0.388889</td>\n",
              "      <td>-10</td>\n",
              "    </tr>\n",
              "    <tr>\n",
              "      <th>12</th>\n",
              "      <td>2</td>\n",
              "      <td>8</td>\n",
              "      <td>1</td>\n",
              "      <td>4</td>\n",
              "      <td>0.569842</td>\n",
              "      <td>0.333333</td>\n",
              "      <td>0.111111</td>\n",
              "      <td>0.222222</td>\n",
              "      <td>-20</td>\n",
              "    </tr>\n",
              "    <tr>\n",
              "      <th>8</th>\n",
              "      <td>5</td>\n",
              "      <td>7</td>\n",
              "      <td>2</td>\n",
              "      <td>1</td>\n",
              "      <td>0.323831</td>\n",
              "      <td>0.833333</td>\n",
              "      <td>0.222222</td>\n",
              "      <td>0.611111</td>\n",
              "      <td>-30</td>\n",
              "    </tr>\n",
              "    <tr>\n",
              "      <th>7</th>\n",
              "      <td>5</td>\n",
              "      <td>6</td>\n",
              "      <td>3</td>\n",
              "      <td>1</td>\n",
              "      <td>0.272632</td>\n",
              "      <td>0.833333</td>\n",
              "      <td>0.333333</td>\n",
              "      <td>0.500000</td>\n",
              "      <td>-70</td>\n",
              "    </tr>\n",
              "    <tr>\n",
              "      <th>6</th>\n",
              "      <td>5</td>\n",
              "      <td>5</td>\n",
              "      <td>4</td>\n",
              "      <td>1</td>\n",
              "      <td>0.253159</td>\n",
              "      <td>0.833333</td>\n",
              "      <td>0.444444</td>\n",
              "      <td>0.388889</td>\n",
              "      <td>-110</td>\n",
              "    </tr>\n",
              "    <tr>\n",
              "      <th>4</th>\n",
              "      <td>6</td>\n",
              "      <td>4</td>\n",
              "      <td>5</td>\n",
              "      <td>0</td>\n",
              "      <td>0.231577</td>\n",
              "      <td>1.000000</td>\n",
              "      <td>0.555556</td>\n",
              "      <td>0.444444</td>\n",
              "      <td>-140</td>\n",
              "    </tr>\n",
              "    <tr>\n",
              "      <th>5</th>\n",
              "      <td>5</td>\n",
              "      <td>4</td>\n",
              "      <td>5</td>\n",
              "      <td>1</td>\n",
              "      <td>0.245193</td>\n",
              "      <td>0.833333</td>\n",
              "      <td>0.555556</td>\n",
              "      <td>0.277778</td>\n",
              "      <td>-150</td>\n",
              "    </tr>\n",
              "    <tr>\n",
              "      <th>3</th>\n",
              "      <td>6</td>\n",
              "      <td>3</td>\n",
              "      <td>6</td>\n",
              "      <td>0</td>\n",
              "      <td>0.210290</td>\n",
              "      <td>1.000000</td>\n",
              "      <td>0.666667</td>\n",
              "      <td>0.333333</td>\n",
              "      <td>-180</td>\n",
              "    </tr>\n",
              "    <tr>\n",
              "      <th>2</th>\n",
              "      <td>6</td>\n",
              "      <td>2</td>\n",
              "      <td>7</td>\n",
              "      <td>0</td>\n",
              "      <td>0.184829</td>\n",
              "      <td>1.000000</td>\n",
              "      <td>0.777778</td>\n",
              "      <td>0.222222</td>\n",
              "      <td>-220</td>\n",
              "    </tr>\n",
              "    <tr>\n",
              "      <th>1</th>\n",
              "      <td>6</td>\n",
              "      <td>1</td>\n",
              "      <td>8</td>\n",
              "      <td>0</td>\n",
              "      <td>0.171740</td>\n",
              "      <td>1.000000</td>\n",
              "      <td>0.888889</td>\n",
              "      <td>0.111111</td>\n",
              "      <td>-260</td>\n",
              "    </tr>\n",
              "    <tr>\n",
              "      <th>0</th>\n",
              "      <td>6</td>\n",
              "      <td>0</td>\n",
              "      <td>9</td>\n",
              "      <td>0</td>\n",
              "      <td>0.000000</td>\n",
              "      <td>1.000000</td>\n",
              "      <td>1.000000</td>\n",
              "      <td>0.000000</td>\n",
              "      <td>-300</td>\n",
              "    </tr>\n",
              "  </tbody>\n",
              "</table>\n",
              "</div>"
            ],
            "text/plain": [
              "    tp  tn  fp  fn       thr       tpr       fpr  tpr - fpr  profit\n",
              "13   2   9   0   4  0.648459  0.333333  0.000000   0.333333      20\n",
              "9    5   8   1   1  0.431663  0.833333  0.111111   0.722222      10\n",
              "14   1   9   0   5  0.700653  0.166667  0.000000   0.166667      10\n",
              "10   4   8   1   2  0.502817  0.666667  0.111111   0.555556       0\n",
              "15   0   9   0   6  0.722093  0.000000  0.000000   0.000000       0\n",
              "11   3   8   1   3  0.531244  0.500000  0.111111   0.388889     -10\n",
              "12   2   8   1   4  0.569842  0.333333  0.111111   0.222222     -20\n",
              "8    5   7   2   1  0.323831  0.833333  0.222222   0.611111     -30\n",
              "7    5   6   3   1  0.272632  0.833333  0.333333   0.500000     -70\n",
              "6    5   5   4   1  0.253159  0.833333  0.444444   0.388889    -110\n",
              "4    6   4   5   0  0.231577  1.000000  0.555556   0.444444    -140\n",
              "5    5   4   5   1  0.245193  0.833333  0.555556   0.277778    -150\n",
              "3    6   3   6   0  0.210290  1.000000  0.666667   0.333333    -180\n",
              "2    6   2   7   0  0.184829  1.000000  0.777778   0.222222    -220\n",
              "1    6   1   8   0  0.171740  1.000000  0.888889   0.111111    -260\n",
              "0    6   0   9   0  0.000000  1.000000  1.000000   0.000000    -300"
            ]
          },
          "metadata": {
            "tags": []
          },
          "execution_count": 124
        }
      ]
    },
    {
      "cell_type": "code",
      "metadata": {
        "id": "k5BfvInFXfAg",
        "outputId": "a1b5dbb5-d02c-45d7-a8d6-c84b1179abdd",
        "colab": {
          "base_uri": "https://localhost:8080/",
          "height": 545
        }
      },
      "source": [
        "cm"
      ],
      "execution_count": null,
      "outputs": [
        {
          "output_type": "execute_result",
          "data": {
            "text/html": [
              "<div>\n",
              "<style scoped>\n",
              "    .dataframe tbody tr th:only-of-type {\n",
              "        vertical-align: middle;\n",
              "    }\n",
              "\n",
              "    .dataframe tbody tr th {\n",
              "        vertical-align: top;\n",
              "    }\n",
              "\n",
              "    .dataframe thead th {\n",
              "        text-align: right;\n",
              "    }\n",
              "</style>\n",
              "<table border=\"1\" class=\"dataframe\">\n",
              "  <thead>\n",
              "    <tr style=\"text-align: right;\">\n",
              "      <th></th>\n",
              "      <th>tp</th>\n",
              "      <th>tn</th>\n",
              "      <th>fp</th>\n",
              "      <th>fn</th>\n",
              "      <th>thr</th>\n",
              "      <th>tpr</th>\n",
              "      <th>fpr</th>\n",
              "      <th>tpr - fpr</th>\n",
              "      <th>profit</th>\n",
              "    </tr>\n",
              "  </thead>\n",
              "  <tbody>\n",
              "    <tr>\n",
              "      <th>0</th>\n",
              "      <td>6</td>\n",
              "      <td>0</td>\n",
              "      <td>9</td>\n",
              "      <td>0</td>\n",
              "      <td>0.000000</td>\n",
              "      <td>1.000000</td>\n",
              "      <td>1.000000</td>\n",
              "      <td>0.000000</td>\n",
              "      <td>-300</td>\n",
              "    </tr>\n",
              "    <tr>\n",
              "      <th>1</th>\n",
              "      <td>6</td>\n",
              "      <td>1</td>\n",
              "      <td>8</td>\n",
              "      <td>0</td>\n",
              "      <td>0.171740</td>\n",
              "      <td>1.000000</td>\n",
              "      <td>0.888889</td>\n",
              "      <td>0.111111</td>\n",
              "      <td>-260</td>\n",
              "    </tr>\n",
              "    <tr>\n",
              "      <th>2</th>\n",
              "      <td>6</td>\n",
              "      <td>2</td>\n",
              "      <td>7</td>\n",
              "      <td>0</td>\n",
              "      <td>0.184829</td>\n",
              "      <td>1.000000</td>\n",
              "      <td>0.777778</td>\n",
              "      <td>0.222222</td>\n",
              "      <td>-220</td>\n",
              "    </tr>\n",
              "    <tr>\n",
              "      <th>3</th>\n",
              "      <td>6</td>\n",
              "      <td>3</td>\n",
              "      <td>6</td>\n",
              "      <td>0</td>\n",
              "      <td>0.210290</td>\n",
              "      <td>1.000000</td>\n",
              "      <td>0.666667</td>\n",
              "      <td>0.333333</td>\n",
              "      <td>-180</td>\n",
              "    </tr>\n",
              "    <tr>\n",
              "      <th>4</th>\n",
              "      <td>6</td>\n",
              "      <td>4</td>\n",
              "      <td>5</td>\n",
              "      <td>0</td>\n",
              "      <td>0.231577</td>\n",
              "      <td>1.000000</td>\n",
              "      <td>0.555556</td>\n",
              "      <td>0.444444</td>\n",
              "      <td>-140</td>\n",
              "    </tr>\n",
              "    <tr>\n",
              "      <th>5</th>\n",
              "      <td>5</td>\n",
              "      <td>4</td>\n",
              "      <td>5</td>\n",
              "      <td>1</td>\n",
              "      <td>0.245193</td>\n",
              "      <td>0.833333</td>\n",
              "      <td>0.555556</td>\n",
              "      <td>0.277778</td>\n",
              "      <td>-150</td>\n",
              "    </tr>\n",
              "    <tr>\n",
              "      <th>6</th>\n",
              "      <td>5</td>\n",
              "      <td>5</td>\n",
              "      <td>4</td>\n",
              "      <td>1</td>\n",
              "      <td>0.253159</td>\n",
              "      <td>0.833333</td>\n",
              "      <td>0.444444</td>\n",
              "      <td>0.388889</td>\n",
              "      <td>-110</td>\n",
              "    </tr>\n",
              "    <tr>\n",
              "      <th>7</th>\n",
              "      <td>5</td>\n",
              "      <td>6</td>\n",
              "      <td>3</td>\n",
              "      <td>1</td>\n",
              "      <td>0.272632</td>\n",
              "      <td>0.833333</td>\n",
              "      <td>0.333333</td>\n",
              "      <td>0.500000</td>\n",
              "      <td>-70</td>\n",
              "    </tr>\n",
              "    <tr>\n",
              "      <th>8</th>\n",
              "      <td>5</td>\n",
              "      <td>7</td>\n",
              "      <td>2</td>\n",
              "      <td>1</td>\n",
              "      <td>0.323831</td>\n",
              "      <td>0.833333</td>\n",
              "      <td>0.222222</td>\n",
              "      <td>0.611111</td>\n",
              "      <td>-30</td>\n",
              "    </tr>\n",
              "    <tr>\n",
              "      <th>9</th>\n",
              "      <td>5</td>\n",
              "      <td>8</td>\n",
              "      <td>1</td>\n",
              "      <td>1</td>\n",
              "      <td>0.431663</td>\n",
              "      <td>0.833333</td>\n",
              "      <td>0.111111</td>\n",
              "      <td>0.722222</td>\n",
              "      <td>10</td>\n",
              "    </tr>\n",
              "    <tr>\n",
              "      <th>10</th>\n",
              "      <td>4</td>\n",
              "      <td>8</td>\n",
              "      <td>1</td>\n",
              "      <td>2</td>\n",
              "      <td>0.502817</td>\n",
              "      <td>0.666667</td>\n",
              "      <td>0.111111</td>\n",
              "      <td>0.555556</td>\n",
              "      <td>0</td>\n",
              "    </tr>\n",
              "    <tr>\n",
              "      <th>11</th>\n",
              "      <td>3</td>\n",
              "      <td>8</td>\n",
              "      <td>1</td>\n",
              "      <td>3</td>\n",
              "      <td>0.531244</td>\n",
              "      <td>0.500000</td>\n",
              "      <td>0.111111</td>\n",
              "      <td>0.388889</td>\n",
              "      <td>-10</td>\n",
              "    </tr>\n",
              "    <tr>\n",
              "      <th>12</th>\n",
              "      <td>2</td>\n",
              "      <td>8</td>\n",
              "      <td>1</td>\n",
              "      <td>4</td>\n",
              "      <td>0.569842</td>\n",
              "      <td>0.333333</td>\n",
              "      <td>0.111111</td>\n",
              "      <td>0.222222</td>\n",
              "      <td>-20</td>\n",
              "    </tr>\n",
              "    <tr>\n",
              "      <th>13</th>\n",
              "      <td>2</td>\n",
              "      <td>9</td>\n",
              "      <td>0</td>\n",
              "      <td>4</td>\n",
              "      <td>0.648459</td>\n",
              "      <td>0.333333</td>\n",
              "      <td>0.000000</td>\n",
              "      <td>0.333333</td>\n",
              "      <td>20</td>\n",
              "    </tr>\n",
              "    <tr>\n",
              "      <th>14</th>\n",
              "      <td>1</td>\n",
              "      <td>9</td>\n",
              "      <td>0</td>\n",
              "      <td>5</td>\n",
              "      <td>0.700653</td>\n",
              "      <td>0.166667</td>\n",
              "      <td>0.000000</td>\n",
              "      <td>0.166667</td>\n",
              "      <td>10</td>\n",
              "    </tr>\n",
              "    <tr>\n",
              "      <th>15</th>\n",
              "      <td>0</td>\n",
              "      <td>9</td>\n",
              "      <td>0</td>\n",
              "      <td>6</td>\n",
              "      <td>0.722093</td>\n",
              "      <td>0.000000</td>\n",
              "      <td>0.000000</td>\n",
              "      <td>0.000000</td>\n",
              "      <td>0</td>\n",
              "    </tr>\n",
              "  </tbody>\n",
              "</table>\n",
              "</div>"
            ],
            "text/plain": [
              "    tp  tn  fp  fn       thr       tpr       fpr  tpr - fpr  profit\n",
              "0    6   0   9   0  0.000000  1.000000  1.000000   0.000000    -300\n",
              "1    6   1   8   0  0.171740  1.000000  0.888889   0.111111    -260\n",
              "2    6   2   7   0  0.184829  1.000000  0.777778   0.222222    -220\n",
              "3    6   3   6   0  0.210290  1.000000  0.666667   0.333333    -180\n",
              "4    6   4   5   0  0.231577  1.000000  0.555556   0.444444    -140\n",
              "5    5   4   5   1  0.245193  0.833333  0.555556   0.277778    -150\n",
              "6    5   5   4   1  0.253159  0.833333  0.444444   0.388889    -110\n",
              "7    5   6   3   1  0.272632  0.833333  0.333333   0.500000     -70\n",
              "8    5   7   2   1  0.323831  0.833333  0.222222   0.611111     -30\n",
              "9    5   8   1   1  0.431663  0.833333  0.111111   0.722222      10\n",
              "10   4   8   1   2  0.502817  0.666667  0.111111   0.555556       0\n",
              "11   3   8   1   3  0.531244  0.500000  0.111111   0.388889     -10\n",
              "12   2   8   1   4  0.569842  0.333333  0.111111   0.222222     -20\n",
              "13   2   9   0   4  0.648459  0.333333  0.000000   0.333333      20\n",
              "14   1   9   0   5  0.700653  0.166667  0.000000   0.166667      10\n",
              "15   0   9   0   6  0.722093  0.000000  0.000000   0.000000       0"
            ]
          },
          "metadata": {
            "tags": []
          },
          "execution_count": 125
        }
      ]
    },
    {
      "cell_type": "code",
      "metadata": {
        "id": "aaoE79SNasd_"
      },
      "source": [
        "cm.sort_values('thr',ascending=False,inplace=True)"
      ],
      "execution_count": null,
      "outputs": []
    },
    {
      "cell_type": "code",
      "metadata": {
        "id": "Tnn5tLx5a2No",
        "outputId": "b847e7d6-2768-44c4-a2c3-1a748ba82984",
        "colab": {
          "base_uri": "https://localhost:8080/",
          "height": 545
        }
      },
      "source": [
        "cm"
      ],
      "execution_count": null,
      "outputs": [
        {
          "output_type": "execute_result",
          "data": {
            "text/html": [
              "<div>\n",
              "<style scoped>\n",
              "    .dataframe tbody tr th:only-of-type {\n",
              "        vertical-align: middle;\n",
              "    }\n",
              "\n",
              "    .dataframe tbody tr th {\n",
              "        vertical-align: top;\n",
              "    }\n",
              "\n",
              "    .dataframe thead th {\n",
              "        text-align: right;\n",
              "    }\n",
              "</style>\n",
              "<table border=\"1\" class=\"dataframe\">\n",
              "  <thead>\n",
              "    <tr style=\"text-align: right;\">\n",
              "      <th></th>\n",
              "      <th>tp</th>\n",
              "      <th>tn</th>\n",
              "      <th>fp</th>\n",
              "      <th>fn</th>\n",
              "      <th>thr</th>\n",
              "      <th>tpr</th>\n",
              "      <th>fpr</th>\n",
              "      <th>tpr - fpr</th>\n",
              "      <th>profit</th>\n",
              "    </tr>\n",
              "  </thead>\n",
              "  <tbody>\n",
              "    <tr>\n",
              "      <th>15</th>\n",
              "      <td>0</td>\n",
              "      <td>9</td>\n",
              "      <td>0</td>\n",
              "      <td>6</td>\n",
              "      <td>0.722093</td>\n",
              "      <td>0.000000</td>\n",
              "      <td>0.000000</td>\n",
              "      <td>0.000000</td>\n",
              "      <td>0</td>\n",
              "    </tr>\n",
              "    <tr>\n",
              "      <th>14</th>\n",
              "      <td>1</td>\n",
              "      <td>9</td>\n",
              "      <td>0</td>\n",
              "      <td>5</td>\n",
              "      <td>0.700653</td>\n",
              "      <td>0.166667</td>\n",
              "      <td>0.000000</td>\n",
              "      <td>0.166667</td>\n",
              "      <td>10</td>\n",
              "    </tr>\n",
              "    <tr>\n",
              "      <th>13</th>\n",
              "      <td>2</td>\n",
              "      <td>9</td>\n",
              "      <td>0</td>\n",
              "      <td>4</td>\n",
              "      <td>0.648459</td>\n",
              "      <td>0.333333</td>\n",
              "      <td>0.000000</td>\n",
              "      <td>0.333333</td>\n",
              "      <td>20</td>\n",
              "    </tr>\n",
              "    <tr>\n",
              "      <th>12</th>\n",
              "      <td>2</td>\n",
              "      <td>8</td>\n",
              "      <td>1</td>\n",
              "      <td>4</td>\n",
              "      <td>0.569842</td>\n",
              "      <td>0.333333</td>\n",
              "      <td>0.111111</td>\n",
              "      <td>0.222222</td>\n",
              "      <td>-20</td>\n",
              "    </tr>\n",
              "    <tr>\n",
              "      <th>11</th>\n",
              "      <td>3</td>\n",
              "      <td>8</td>\n",
              "      <td>1</td>\n",
              "      <td>3</td>\n",
              "      <td>0.531244</td>\n",
              "      <td>0.500000</td>\n",
              "      <td>0.111111</td>\n",
              "      <td>0.388889</td>\n",
              "      <td>-10</td>\n",
              "    </tr>\n",
              "    <tr>\n",
              "      <th>10</th>\n",
              "      <td>4</td>\n",
              "      <td>8</td>\n",
              "      <td>1</td>\n",
              "      <td>2</td>\n",
              "      <td>0.502817</td>\n",
              "      <td>0.666667</td>\n",
              "      <td>0.111111</td>\n",
              "      <td>0.555556</td>\n",
              "      <td>0</td>\n",
              "    </tr>\n",
              "    <tr>\n",
              "      <th>9</th>\n",
              "      <td>5</td>\n",
              "      <td>8</td>\n",
              "      <td>1</td>\n",
              "      <td>1</td>\n",
              "      <td>0.431663</td>\n",
              "      <td>0.833333</td>\n",
              "      <td>0.111111</td>\n",
              "      <td>0.722222</td>\n",
              "      <td>10</td>\n",
              "    </tr>\n",
              "    <tr>\n",
              "      <th>8</th>\n",
              "      <td>5</td>\n",
              "      <td>7</td>\n",
              "      <td>2</td>\n",
              "      <td>1</td>\n",
              "      <td>0.323831</td>\n",
              "      <td>0.833333</td>\n",
              "      <td>0.222222</td>\n",
              "      <td>0.611111</td>\n",
              "      <td>-30</td>\n",
              "    </tr>\n",
              "    <tr>\n",
              "      <th>7</th>\n",
              "      <td>5</td>\n",
              "      <td>6</td>\n",
              "      <td>3</td>\n",
              "      <td>1</td>\n",
              "      <td>0.272632</td>\n",
              "      <td>0.833333</td>\n",
              "      <td>0.333333</td>\n",
              "      <td>0.500000</td>\n",
              "      <td>-70</td>\n",
              "    </tr>\n",
              "    <tr>\n",
              "      <th>6</th>\n",
              "      <td>5</td>\n",
              "      <td>5</td>\n",
              "      <td>4</td>\n",
              "      <td>1</td>\n",
              "      <td>0.253159</td>\n",
              "      <td>0.833333</td>\n",
              "      <td>0.444444</td>\n",
              "      <td>0.388889</td>\n",
              "      <td>-110</td>\n",
              "    </tr>\n",
              "    <tr>\n",
              "      <th>5</th>\n",
              "      <td>5</td>\n",
              "      <td>4</td>\n",
              "      <td>5</td>\n",
              "      <td>1</td>\n",
              "      <td>0.245193</td>\n",
              "      <td>0.833333</td>\n",
              "      <td>0.555556</td>\n",
              "      <td>0.277778</td>\n",
              "      <td>-150</td>\n",
              "    </tr>\n",
              "    <tr>\n",
              "      <th>4</th>\n",
              "      <td>6</td>\n",
              "      <td>4</td>\n",
              "      <td>5</td>\n",
              "      <td>0</td>\n",
              "      <td>0.231577</td>\n",
              "      <td>1.000000</td>\n",
              "      <td>0.555556</td>\n",
              "      <td>0.444444</td>\n",
              "      <td>-140</td>\n",
              "    </tr>\n",
              "    <tr>\n",
              "      <th>3</th>\n",
              "      <td>6</td>\n",
              "      <td>3</td>\n",
              "      <td>6</td>\n",
              "      <td>0</td>\n",
              "      <td>0.210290</td>\n",
              "      <td>1.000000</td>\n",
              "      <td>0.666667</td>\n",
              "      <td>0.333333</td>\n",
              "      <td>-180</td>\n",
              "    </tr>\n",
              "    <tr>\n",
              "      <th>2</th>\n",
              "      <td>6</td>\n",
              "      <td>2</td>\n",
              "      <td>7</td>\n",
              "      <td>0</td>\n",
              "      <td>0.184829</td>\n",
              "      <td>1.000000</td>\n",
              "      <td>0.777778</td>\n",
              "      <td>0.222222</td>\n",
              "      <td>-220</td>\n",
              "    </tr>\n",
              "    <tr>\n",
              "      <th>1</th>\n",
              "      <td>6</td>\n",
              "      <td>1</td>\n",
              "      <td>8</td>\n",
              "      <td>0</td>\n",
              "      <td>0.171740</td>\n",
              "      <td>1.000000</td>\n",
              "      <td>0.888889</td>\n",
              "      <td>0.111111</td>\n",
              "      <td>-260</td>\n",
              "    </tr>\n",
              "    <tr>\n",
              "      <th>0</th>\n",
              "      <td>6</td>\n",
              "      <td>0</td>\n",
              "      <td>9</td>\n",
              "      <td>0</td>\n",
              "      <td>0.000000</td>\n",
              "      <td>1.000000</td>\n",
              "      <td>1.000000</td>\n",
              "      <td>0.000000</td>\n",
              "      <td>-300</td>\n",
              "    </tr>\n",
              "  </tbody>\n",
              "</table>\n",
              "</div>"
            ],
            "text/plain": [
              "    tp  tn  fp  fn       thr       tpr       fpr  tpr - fpr  profit\n",
              "15   0   9   0   6  0.722093  0.000000  0.000000   0.000000       0\n",
              "14   1   9   0   5  0.700653  0.166667  0.000000   0.166667      10\n",
              "13   2   9   0   4  0.648459  0.333333  0.000000   0.333333      20\n",
              "12   2   8   1   4  0.569842  0.333333  0.111111   0.222222     -20\n",
              "11   3   8   1   3  0.531244  0.500000  0.111111   0.388889     -10\n",
              "10   4   8   1   2  0.502817  0.666667  0.111111   0.555556       0\n",
              "9    5   8   1   1  0.431663  0.833333  0.111111   0.722222      10\n",
              "8    5   7   2   1  0.323831  0.833333  0.222222   0.611111     -30\n",
              "7    5   6   3   1  0.272632  0.833333  0.333333   0.500000     -70\n",
              "6    5   5   4   1  0.253159  0.833333  0.444444   0.388889    -110\n",
              "5    5   4   5   1  0.245193  0.833333  0.555556   0.277778    -150\n",
              "4    6   4   5   0  0.231577  1.000000  0.555556   0.444444    -140\n",
              "3    6   3   6   0  0.210290  1.000000  0.666667   0.333333    -180\n",
              "2    6   2   7   0  0.184829  1.000000  0.777778   0.222222    -220\n",
              "1    6   1   8   0  0.171740  1.000000  0.888889   0.111111    -260\n",
              "0    6   0   9   0  0.000000  1.000000  1.000000   0.000000    -300"
            ]
          },
          "metadata": {
            "tags": []
          },
          "execution_count": 130
        }
      ]
    },
    {
      "cell_type": "code",
      "metadata": {
        "id": "KOjc_nXOa5xA"
      },
      "source": [
        "cm['area'] = 1/2 * cm['fpr'].diff() *(cm['tpr'] + cm['tpr'].shift())"
      ],
      "execution_count": null,
      "outputs": []
    },
    {
      "cell_type": "code",
      "metadata": {
        "id": "lxGXL_hGbOuQ",
        "outputId": "aee4a224-24b0-4d30-cd72-faad187a3670",
        "colab": {
          "base_uri": "https://localhost:8080/",
          "height": 34
        }
      },
      "source": [
        "cm['area'].sum()"
      ],
      "execution_count": null,
      "outputs": [
        {
          "output_type": "execute_result",
          "data": {
            "text/plain": [
              "0.8518518518518519"
            ]
          },
          "metadata": {
            "tags": []
          },
          "execution_count": 134
        }
      ]
    },
    {
      "cell_type": "code",
      "metadata": {
        "id": "GYRCtravbSFN"
      },
      "source": [
        "from sklearn.metrics import roc_auc_score"
      ],
      "execution_count": null,
      "outputs": []
    },
    {
      "cell_type": "code",
      "metadata": {
        "id": "DzJNrLEvbbxp",
        "outputId": "d9c4a7f0-d814-436d-debf-7f6935487ce9",
        "colab": {
          "base_uri": "https://localhost:8080/",
          "height": 34
        }
      },
      "source": [
        "roc_auc_score(df['y_true'],df['y_score'])"
      ],
      "execution_count": null,
      "outputs": [
        {
          "output_type": "execute_result",
          "data": {
            "text/plain": [
              "0.8518518518518519"
            ]
          },
          "metadata": {
            "tags": []
          },
          "execution_count": 136
        }
      ]
    },
    {
      "cell_type": "code",
      "metadata": {
        "id": "MK4R_5N1bf_E"
      },
      "source": [
        "from sklearn.metrics import auc"
      ],
      "execution_count": null,
      "outputs": []
    },
    {
      "cell_type": "code",
      "metadata": {
        "id": "U5TEc5jqbnI_",
        "outputId": "73f5f7a9-0532-4586-ccfd-fbec5dadd836",
        "colab": {
          "base_uri": "https://localhost:8080/",
          "height": 34
        }
      },
      "source": [
        "auc(cm['fpr'],cm['tpr'])"
      ],
      "execution_count": null,
      "outputs": [
        {
          "output_type": "execute_result",
          "data": {
            "text/plain": [
              "0.8518518518518519"
            ]
          },
          "metadata": {
            "tags": []
          },
          "execution_count": 139
        }
      ]
    },
    {
      "cell_type": "code",
      "metadata": {
        "id": "QsS0PuDKbs5F",
        "outputId": "68a65e51-1e5a-458d-eca4-48c00baf7807",
        "colab": {
          "base_uri": "https://localhost:8080/",
          "height": 221
        }
      },
      "source": [
        "df[df['y_true']==1].sample(100,replace=True)['y_score']"
      ],
      "execution_count": null,
      "outputs": [
        {
          "output_type": "execute_result",
          "data": {
            "text/plain": [
              "14    0.569842\n",
              "2     0.700653\n",
              "8     0.245193\n",
              "4     0.531244\n",
              "1     0.502817\n",
              "        ...   \n",
              "0     0.722093\n",
              "4     0.531244\n",
              "4     0.531244\n",
              "0     0.722093\n",
              "2     0.700653\n",
              "Name: y_score, Length: 100, dtype: float64"
            ]
          },
          "metadata": {
            "tags": []
          },
          "execution_count": 144
        }
      ]
    },
    {
      "cell_type": "code",
      "metadata": {
        "id": "I_dwNZrvb9eP",
        "outputId": "80927dda-cd92-4ae2-e1af-2c9a05e5ba53",
        "colab": {
          "base_uri": "https://localhost:8080/",
          "height": 221
        }
      },
      "source": [
        "df[df['y_true']==0].sample(100,replace=True)['y_score']"
      ],
      "execution_count": null,
      "outputs": [
        {
          "output_type": "execute_result",
          "data": {
            "text/plain": [
              "11    0.184829\n",
              "5     0.231577\n",
              "5     0.231577\n",
              "9     0.171740\n",
              "10    0.272632\n",
              "        ...   \n",
              "11    0.184829\n",
              "10    0.272632\n",
              "12    0.648459\n",
              "11    0.184829\n",
              "7     0.431663\n",
              "Name: y_score, Length: 100, dtype: float64"
            ]
          },
          "metadata": {
            "tags": []
          },
          "execution_count": 145
        }
      ]
    },
    {
      "cell_type": "code",
      "metadata": {
        "id": "FmJ-4j_8cXc7",
        "outputId": "43befb71-f021-497d-f368-cb77ed1b956d",
        "colab": {
          "base_uri": "https://localhost:8080/",
          "height": 34
        }
      },
      "source": [
        "np.mean(df[df['y_true']==1].sample(10000,replace=True)['y_score'].values >\n",
        "        df[df['y_true']==0].sample(10000,replace=True)['y_score'].values)"
      ],
      "execution_count": null,
      "outputs": [
        {
          "output_type": "execute_result",
          "data": {
            "text/plain": [
              "0.8537"
            ]
          },
          "metadata": {
            "tags": []
          },
          "execution_count": 149
        }
      ]
    },
    {
      "cell_type": "code",
      "metadata": {
        "id": "OAdMoBBIcdCH",
        "outputId": "dd51a10d-672c-4ecd-ec74-0d64fe1ee5d6",
        "colab": {
          "base_uri": "https://localhost:8080/",
          "height": 34
        }
      },
      "source": [
        "roc_auc_score(df['y_true'],df['y_score'])"
      ],
      "execution_count": null,
      "outputs": [
        {
          "output_type": "execute_result",
          "data": {
            "text/plain": [
              "0.8518518518518519"
            ]
          },
          "metadata": {
            "tags": []
          },
          "execution_count": 150
        }
      ]
    },
    {
      "cell_type": "code",
      "metadata": {
        "id": "LdSLrFr7cwW6"
      },
      "source": [],
      "execution_count": null,
      "outputs": []
    }
  ]
}